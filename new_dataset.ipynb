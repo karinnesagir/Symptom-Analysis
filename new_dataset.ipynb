{
 "cells": [
  {
   "cell_type": "code",
   "execution_count": 1,
   "metadata": {},
   "outputs": [
    {
     "name": "stderr",
     "output_type": "stream",
     "text": [
      "c:\\Users\\kevin\\AppData\\Local\\Programs\\Python\\Python311\\Lib\\site-packages\\tqdm\\auto.py:21: TqdmWarning: IProgress not found. Please update jupyter and ipywidgets. See https://ipywidgets.readthedocs.io/en/stable/user_install.html\n",
      "  from .autonotebook import tqdm as notebook_tqdm\n"
     ]
    }
   ],
   "source": [
    "import datasets\n",
    "import numpy as np\n",
    "from transformers import BertTokenizerFast, DataCollatorForTokenClassification, AutoModelForTokenClassification"
   ]
  },
  {
   "cell_type": "code",
   "execution_count": 2,
   "metadata": {},
   "outputs": [],
   "source": [
    "dataset = datasets.load_dataset(\"ktgiahieu/maccrobat2018_2020\")"
   ]
  },
  {
   "cell_type": "code",
   "execution_count": 3,
   "metadata": {},
   "outputs": [],
   "source": [
    "label_list = []\n",
    "\n",
    "with open('./label_list.txt', 'r') as f:\n",
    "    for line in f:\n",
    "        parts = line.split(':')\n",
    "        label = parts[1].strip()\n",
    "        \n",
    "        label_list.append(label)"
   ]
  },
  {
   "cell_type": "code",
   "execution_count": 4,
   "metadata": {},
   "outputs": [],
   "source": [
    "dataset = dataset['train'].train_test_split(test_size=0.2)"
   ]
  },
  {
   "cell_type": "code",
   "execution_count": 5,
   "metadata": {},
   "outputs": [],
   "source": [
    "validation_ds = dataset.pop('test')"
   ]
  },
  {
   "cell_type": "code",
   "execution_count": 6,
   "metadata": {},
   "outputs": [],
   "source": [
    "dataset['validation'] = validation_ds"
   ]
  },
  {
   "cell_type": "code",
   "execution_count": 7,
   "metadata": {},
   "outputs": [
    {
     "data": {
      "text/plain": [
       "{'train': (320, 2), 'validation': (80, 2)}"
      ]
     },
     "execution_count": 7,
     "metadata": {},
     "output_type": "execute_result"
    }
   ],
   "source": [
    "dataset.shape"
   ]
  },
  {
   "cell_type": "code",
   "execution_count": 8,
   "metadata": {},
   "outputs": [
    {
     "data": {
      "text/plain": [
       "Dataset({\n",
       "    features: ['tokens', 'tags'],\n",
       "    num_rows: 320\n",
       "})"
      ]
     },
     "execution_count": 8,
     "metadata": {},
     "output_type": "execute_result"
    }
   ],
   "source": [
    "dataset['train']"
   ]
  },
  {
   "cell_type": "code",
   "execution_count": 9,
   "metadata": {},
   "outputs": [],
   "source": [
    "tokenizer = BertTokenizerFast.from_pretrained('bert-base-uncased')"
   ]
  },
  {
   "cell_type": "code",
   "execution_count": 10,
   "metadata": {},
   "outputs": [],
   "source": [
    "idx_to_label = {i: label for i, label in enumerate(label_list)}\n",
    "label_to_idx = {label: i for i, label in enumerate(label_list)}"
   ]
  },
  {
   "cell_type": "code",
   "execution_count": 11,
   "metadata": {},
   "outputs": [],
   "source": [
    "def tags_to_indices(example):\n",
    "    example['tags'] = [label_to_idx[tag] for tag in example['tags']]\n",
    "    return example"
   ]
  },
  {
   "cell_type": "code",
   "execution_count": 12,
   "metadata": {},
   "outputs": [],
   "source": [
    "def indices_to_tags(example):\n",
    "    example['tags'] = [idx_to_label[idx] for idx in example['tags']]\n",
    "    return example"
   ]
  },
  {
   "cell_type": "code",
   "execution_count": 13,
   "metadata": {},
   "outputs": [
    {
     "name": "stderr",
     "output_type": "stream",
     "text": [
      "Map: 100%|██████████| 320/320 [00:00<00:00, 2207.47 examples/s]\n",
      "Map: 100%|██████████| 80/80 [00:00<00:00, 1631.60 examples/s]\n"
     ]
    }
   ],
   "source": [
    "dataset = dataset.map(lambda x: tags_to_indices(x))"
   ]
  },
  {
   "cell_type": "code",
   "execution_count": 14,
   "metadata": {},
   "outputs": [],
   "source": [
    "def tokenize_and_align_labels(example, label_all_tokens=True):\n",
    "    tokenized_input = tokenizer(example[\"tokens\"], truncation=True, is_split_into_words=True)\n",
    "    labels = []\n",
    "\n",
    "    for i, label in enumerate(example['tags']):\n",
    "        word_ids = tokenized_input.word_ids(batch_index=i)\n",
    "        # word_ids() => Return a list mapping the tokens\n",
    "        # to their actual word in the initial sentence.\n",
    "        # It returns a list indicating the word corresponding to each token.\n",
    "        previous_word_idx = None\n",
    "        \n",
    "        label_ids = []\n",
    "        for word_idx in word_ids:\n",
    "            if word_idx is None:\n",
    "                label_ids.append(-100)\n",
    "            elif word_idx != previous_word_idx:\n",
    "                label_ids.append(label[word_idx])\n",
    "            else:\n",
    "                label_ids.append(label[word_idx] if label_all_tokens else -100)\n",
    "            previous_word_idx = word_idx\n",
    "        labels.append(label_ids)\n",
    "    \n",
    "    tokenized_input[\"labels\"] = labels\n",
    "    return tokenized_input"
   ]
  },
  {
   "cell_type": "code",
   "execution_count": 15,
   "metadata": {},
   "outputs": [
    {
     "data": {
      "text/plain": [
       "(503, 503)"
      ]
     },
     "execution_count": 15,
     "metadata": {},
     "output_type": "execute_result"
    }
   ],
   "source": [
    "q = tokenize_and_align_labels(dataset['train'][0:1])\n",
    "len(q['input_ids'][0]), len(q['labels'][0])"
   ]
  },
  {
   "cell_type": "code",
   "execution_count": 16,
   "metadata": {},
   "outputs": [
    {
     "name": "stderr",
     "output_type": "stream",
     "text": [
      "Map: 100%|██████████| 320/320 [00:00<00:00, 952.32 examples/s]\n",
      "Map: 100%|██████████| 80/80 [00:00<00:00, 834.40 examples/s]\n"
     ]
    }
   ],
   "source": [
    "tokenized_dataset = dataset.map(tokenize_and_align_labels, batched=True)"
   ]
  },
  {
   "cell_type": "code",
   "execution_count": 17,
   "metadata": {},
   "outputs": [
    {
     "name": "stderr",
     "output_type": "stream",
     "text": [
      "Some weights of BertForTokenClassification were not initialized from the model checkpoint at bert-base-uncased and are newly initialized: ['classifier.bias', 'classifier.weight']\n",
      "You should probably TRAIN this model on a down-stream task to be able to use it for predictions and inference.\n"
     ]
    }
   ],
   "source": [
    "model = AutoModelForTokenClassification.from_pretrained('bert-base-uncased', num_labels=len(label_list))"
   ]
  },
  {
   "cell_type": "code",
   "execution_count": 18,
   "metadata": {},
   "outputs": [],
   "source": [
    "from transformers import TrainingArguments, Trainer\n",
    "\n",
    "args = TrainingArguments(\n",
    "    'test-ner',\n",
    "    evaluation_strategy='epoch',\n",
    "    learning_rate=2e-5,\n",
    "    per_device_train_batch_size=32,\n",
    "    per_device_eval_batch_size=32,\n",
    "    num_train_epochs=100,\n",
    "    weight_decay=0.01,\n",
    ")"
   ]
  },
  {
   "cell_type": "code",
   "execution_count": 19,
   "metadata": {},
   "outputs": [
    {
     "name": "stderr",
     "output_type": "stream",
     "text": [
      "C:\\Users\\kevin\\AppData\\Local\\Temp\\ipykernel_15952\\520486469.py:1: FutureWarning: load_metric is deprecated and will be removed in the next major version of datasets. Use 'evaluate.load' instead, from the new library 🤗 Evaluate: https://huggingface.co/docs/evaluate\n",
      "  metric = datasets.load_metric('seqeval')\n"
     ]
    }
   ],
   "source": [
    "metric = datasets.load_metric('seqeval')"
   ]
  },
  {
   "cell_type": "code",
   "execution_count": 20,
   "metadata": {},
   "outputs": [],
   "source": [
    "data_collator = DataCollatorForTokenClassification(tokenizer)"
   ]
  },
  {
   "cell_type": "code",
   "execution_count": 21,
   "metadata": {},
   "outputs": [],
   "source": [
    "import numpy as np\n",
    "from seqeval.metrics import precision_score, recall_score, f1_score, accuracy_score\n",
    "\n",
    "def compute_metrics(p):\n",
    "    logits, label_ids = p\n",
    "    predictions = np.argmax(logits, axis=2)\n",
    "\n",
    "    # Flatten the batches and remove the special tokens\n",
    "    true_predictions = [\n",
    "        label_list[p] for batch_preds, batch_labels in zip(predictions, label_ids) \n",
    "        for p, l in zip(batch_preds, batch_labels) if l != -100\n",
    "    ]\n",
    "\n",
    "    true_labels = [\n",
    "        label_list[l] for batch_labels in label_ids\n",
    "        for l in batch_labels if l != -100\n",
    "    ]\n",
    "\n",
    "    # Calculate metrics\n",
    "    precision = precision_score([true_labels], [true_predictions])\n",
    "    recall = recall_score([true_labels], [true_predictions])\n",
    "    f1 = f1_score([true_labels], [true_predictions])\n",
    "    accuracy = accuracy_score([true_labels], [true_predictions])\n",
    "\n",
    "    return {\n",
    "        'precision': precision,\n",
    "        'recall': recall,\n",
    "        'f1': f1,\n",
    "        'accuracy': accuracy\n",
    "    }\n"
   ]
  },
  {
   "cell_type": "code",
   "execution_count": 22,
   "metadata": {},
   "outputs": [],
   "source": [
    "trainer = Trainer(\n",
    "    model,\n",
    "    args,\n",
    "    train_dataset=tokenized_dataset[\"train\"],\n",
    "    eval_dataset=tokenized_dataset[\"validation\"],\n",
    "    data_collator=data_collator,\n",
    "    tokenizer=tokenizer,\n",
    "    compute_metrics=compute_metrics\n",
    ")"
   ]
  },
  {
   "cell_type": "code",
   "execution_count": 25,
   "metadata": {},
   "outputs": [
    {
     "name": "stderr",
     "output_type": "stream",
     "text": [
      "  0%|          | 0/1000 [00:00<?, ?it/s]"
     ]
    },
    {
     "name": "stderr",
     "output_type": "stream",
     "text": [
      "You're using a BertTokenizerFast tokenizer. Please note that with a fast tokenizer, using the `__call__` method is faster than using a method to encode the text followed by a call to the `pad` method to get a padded encoding.\n",
      "  1%|          | 10/1000 [00:07<11:58,  1.38it/s]c:\\Users\\kevin\\AppData\\Local\\Programs\\Python\\Python311\\Lib\\site-packages\\seqeval\\metrics\\v1.py:57: UndefinedMetricWarning: Precision is ill-defined and being set to 0.0 due to no predicted samples. Use `zero_division` parameter to control this behavior.\n",
      "  _warn_prf(average, modifier, msg_start, len(result))\n",
      "                                                 \n",
      "  1%|          | 10/1000 [00:08<11:58,  1.38it/s]"
     ]
    },
    {
     "name": "stdout",
     "output_type": "stream",
     "text": [
      "{'eval_loss': 2.202951192855835, 'eval_precision': 0.0, 'eval_recall': 0.0, 'eval_f1': 0.0, 'eval_accuracy': 0.6222788267114834, 'eval_runtime': 0.7993, 'eval_samples_per_second': 100.084, 'eval_steps_per_second': 3.753, 'epoch': 1.0}\n"
     ]
    },
    {
     "name": "stderr",
     "output_type": "stream",
     "text": [
      "                                                 \n",
      "  2%|▏         | 20/1000 [00:16<11:46,  1.39it/s]"
     ]
    },
    {
     "name": "stdout",
     "output_type": "stream",
     "text": [
      "{'eval_loss': 1.943030595779419, 'eval_precision': 0.0, 'eval_recall': 0.0, 'eval_f1': 0.0, 'eval_accuracy': 0.6222788267114834, 'eval_runtime': 0.7821, 'eval_samples_per_second': 102.295, 'eval_steps_per_second': 3.836, 'epoch': 2.0}\n"
     ]
    },
    {
     "name": "stderr",
     "output_type": "stream",
     "text": [
      "                                                 \n",
      "  3%|▎         | 30/1000 [00:24<11:30,  1.40it/s]"
     ]
    },
    {
     "name": "stdout",
     "output_type": "stream",
     "text": [
      "{'eval_loss': 1.8016248941421509, 'eval_precision': 0.0, 'eval_recall': 0.0, 'eval_f1': 0.0, 'eval_accuracy': 0.6222788267114834, 'eval_runtime': 0.7786, 'eval_samples_per_second': 102.742, 'eval_steps_per_second': 3.853, 'epoch': 3.0}\n"
     ]
    },
    {
     "name": "stderr",
     "output_type": "stream",
     "text": [
      "                                                 \n",
      "  4%|▍         | 40/1000 [00:32<11:34,  1.38it/s]"
     ]
    },
    {
     "name": "stdout",
     "output_type": "stream",
     "text": [
      "{'eval_loss': 1.681351900100708, 'eval_precision': 0.14736842105263157, 'eval_recall': 0.001705237515225335, 'eval_f1': 0.0033714629741119803, 'eval_accuracy': 0.629894172947139, 'eval_runtime': 0.7988, 'eval_samples_per_second': 100.155, 'eval_steps_per_second': 3.756, 'epoch': 4.0}\n"
     ]
    },
    {
     "name": "stderr",
     "output_type": "stream",
     "text": [
      "                                                 \n",
      "  5%|▌         | 50/1000 [00:40<11:27,  1.38it/s]"
     ]
    },
    {
     "name": "stdout",
     "output_type": "stream",
     "text": [
      "{'eval_loss': 1.5853064060211182, 'eval_precision': 0.3660377358490566, 'eval_recall': 0.011814859926918391, 'eval_f1': 0.022890855457227136, 'eval_accuracy': 0.6312071636774245, 'eval_runtime': 0.786, 'eval_samples_per_second': 101.787, 'eval_steps_per_second': 3.817, 'epoch': 5.0}\n"
     ]
    },
    {
     "name": "stderr",
     "output_type": "stream",
     "text": [
      "                                                 \n",
      "  6%|▌         | 60/1000 [00:48<11:21,  1.38it/s]"
     ]
    },
    {
     "name": "stdout",
     "output_type": "stream",
     "text": [
      "{'eval_loss': 1.4757575988769531, 'eval_precision': 0.33731105807478123, 'eval_recall': 0.05164433617539586, 'eval_f1': 0.0895743107637055, 'eval_accuracy': 0.6394790052782228, 'eval_runtime': 0.7949, 'eval_samples_per_second': 100.646, 'eval_steps_per_second': 3.774, 'epoch': 6.0}\n"
     ]
    },
    {
     "name": "stderr",
     "output_type": "stream",
     "text": [
      "                                                 \n",
      "  7%|▋         | 70/1000 [00:56<11:15,  1.38it/s]"
     ]
    },
    {
     "name": "stdout",
     "output_type": "stream",
     "text": [
      "{'eval_loss': 1.3843284845352173, 'eval_precision': 0.3351125216387767, 'eval_recall': 0.28294762484774666, 'eval_f1': 0.30682868841632543, 'eval_accuracy': 0.6717785772432446, 'eval_runtime': 0.7943, 'eval_samples_per_second': 100.713, 'eval_steps_per_second': 3.777, 'epoch': 7.0}\n"
     ]
    },
    {
     "name": "stderr",
     "output_type": "stream",
     "text": [
      "                                                 \n",
      "  8%|▊         | 80/1000 [01:04<11:09,  1.37it/s]"
     ]
    },
    {
     "name": "stdout",
     "output_type": "stream",
     "text": [
      "{'eval_loss': 1.2834240198135376, 'eval_precision': 0.39920376402461094, 'eval_recall': 0.2686967113276492, 'eval_f1': 0.3211997670355271, 'eval_accuracy': 0.6827289199338252, 'eval_runtime': 0.7952, 'eval_samples_per_second': 100.602, 'eval_steps_per_second': 3.773, 'epoch': 8.0}\n"
     ]
    },
    {
     "name": "stderr",
     "output_type": "stream",
     "text": [
      "                                                 \n",
      "  9%|▉         | 90/1000 [01:12<11:03,  1.37it/s]"
     ]
    },
    {
     "name": "stdout",
     "output_type": "stream",
     "text": [
      "{'eval_loss': 1.2310171127319336, 'eval_precision': 0.4326602626935895, 'eval_recall': 0.26881851400730816, 'eval_f1': 0.3316054391105101, 'eval_accuracy': 0.6897402904335496, 'eval_runtime': 0.7912, 'eval_samples_per_second': 101.109, 'eval_steps_per_second': 3.792, 'epoch': 9.0}\n"
     ]
    },
    {
     "name": "stderr",
     "output_type": "stream",
     "text": [
      "                                                  \n",
      " 10%|█         | 100/1000 [01:20<10:58,  1.37it/s]"
     ]
    },
    {
     "name": "stdout",
     "output_type": "stream",
     "text": [
      "{'eval_loss': 1.186302661895752, 'eval_precision': 0.3794504437079012, 'eval_recall': 0.4322777101096224, 'eval_f1': 0.40414507772020725, 'eval_accuracy': 0.7061789343767233, 'eval_runtime': 0.8055, 'eval_samples_per_second': 99.32, 'eval_steps_per_second': 3.724, 'epoch': 10.0}\n"
     ]
    },
    {
     "name": "stderr",
     "output_type": "stream",
     "text": [
      "                                                  \n",
      " 11%|█         | 110/1000 [01:28<10:53,  1.36it/s]"
     ]
    },
    {
     "name": "stdout",
     "output_type": "stream",
     "text": [
      "{'eval_loss': 1.1024754047393799, 'eval_precision': 0.43760843453890297, 'eval_recall': 0.39939098660170524, 'eval_f1': 0.4176272049926766, 'eval_accuracy': 0.720096636117749, 'eval_runtime': 0.8076, 'eval_samples_per_second': 99.057, 'eval_steps_per_second': 3.715, 'epoch': 11.0}\n"
     ]
    },
    {
     "name": "stderr",
     "output_type": "stream",
     "text": [
      "                                                  \n",
      " 12%|█▏        | 120/1000 [01:36<10:53,  1.35it/s]"
     ]
    },
    {
     "name": "stdout",
     "output_type": "stream",
     "text": [
      "{'eval_loss': 1.0901628732681274, 'eval_precision': 0.3941860465116279, 'eval_recall': 0.4954933008526188, 'eval_f1': 0.4390717754991905, 'eval_accuracy': 0.7156587274493842, 'eval_runtime': 0.8196, 'eval_samples_per_second': 97.61, 'eval_steps_per_second': 3.66, 'epoch': 12.0}\n"
     ]
    },
    {
     "name": "stderr",
     "output_type": "stream",
     "text": [
      "                                                  \n",
      " 13%|█▎        | 130/1000 [01:44<10:18,  1.41it/s]"
     ]
    },
    {
     "name": "stdout",
     "output_type": "stream",
     "text": [
      "{'eval_loss': 1.0098035335540771, 'eval_precision': 0.4776816371377558, 'eval_recall': 0.4236297198538368, 'eval_f1': 0.44903492350397006, 'eval_accuracy': 0.7363252015440771, 'eval_runtime': 0.7819, 'eval_samples_per_second': 102.317, 'eval_steps_per_second': 3.837, 'epoch': 13.0}\n"
     ]
    },
    {
     "name": "stderr",
     "output_type": "stream",
     "text": [
      "                                                  \n",
      " 14%|█▍        | 140/1000 [01:52<10:38,  1.35it/s]"
     ]
    },
    {
     "name": "stdout",
     "output_type": "stream",
     "text": [
      "{'eval_loss': 1.0043479204177856, 'eval_precision': 0.42386262706010064, 'eval_recall': 0.523142509135201, 'eval_f1': 0.4682985335005179, 'eval_accuracy': 0.7350909902576088, 'eval_runtime': 0.8557, 'eval_samples_per_second': 93.494, 'eval_steps_per_second': 3.506, 'epoch': 14.0}\n"
     ]
    },
    {
     "name": "stderr",
     "output_type": "stream",
     "text": [
      "                                                  \n",
      " 15%|█▌        | 150/1000 [02:00<10:16,  1.38it/s]"
     ]
    },
    {
     "name": "stdout",
     "output_type": "stream",
     "text": [
      "{'eval_loss': 0.9737504720687866, 'eval_precision': 0.4398642579099711, 'eval_recall': 0.5367844092570037, 'eval_f1': 0.48351527785396897, 'eval_accuracy': 0.7426275570494473, 'eval_runtime': 0.7884, 'eval_samples_per_second': 101.475, 'eval_steps_per_second': 3.805, 'epoch': 15.0}\n"
     ]
    },
    {
     "name": "stderr",
     "output_type": "stream",
     "text": [
      "                                                  \n",
      " 16%|█▌        | 160/1000 [02:08<10:10,  1.38it/s]"
     ]
    },
    {
     "name": "stdout",
     "output_type": "stream",
     "text": [
      "{'eval_loss': 0.9205114245414734, 'eval_precision': 0.49570097922139955, 'eval_recall': 0.5056029232643118, 'eval_f1': 0.5006029908345393, 'eval_accuracy': 0.7580158084083927, 'eval_runtime': 0.8189, 'eval_samples_per_second': 97.691, 'eval_steps_per_second': 3.663, 'epoch': 16.0}\n"
     ]
    },
    {
     "name": "stderr",
     "output_type": "stream",
     "text": [
      "                                                  \n",
      " 17%|█▋        | 170/1000 [02:16<10:13,  1.35it/s]"
     ]
    },
    {
     "name": "stdout",
     "output_type": "stream",
     "text": [
      "{'eval_loss': 0.9430732727050781, 'eval_precision': 0.4458870264509253, 'eval_recall': 0.5605359317904994, 'eval_f1': 0.49668123684636556, 'eval_accuracy': 0.7476169218245319, 'eval_runtime': 0.8168, 'eval_samples_per_second': 97.943, 'eval_steps_per_second': 3.673, 'epoch': 17.0}\n"
     ]
    },
    {
     "name": "stderr",
     "output_type": "stream",
     "text": [
      "                                                  \n",
      " 18%|█▊        | 180/1000 [02:24<09:41,  1.41it/s]"
     ]
    },
    {
     "name": "stdout",
     "output_type": "stream",
     "text": [
      "{'eval_loss': 0.8934133648872375, 'eval_precision': 0.46877783275606133, 'eval_recall': 0.576979293544458, 'eval_f1': 0.5172809172809172, 'eval_accuracy': 0.7621123394868832, 'eval_runtime': 0.7905, 'eval_samples_per_second': 101.197, 'eval_steps_per_second': 3.795, 'epoch': 18.0}\n"
     ]
    },
    {
     "name": "stderr",
     "output_type": "stream",
     "text": [
      "                                                  \n",
      " 19%|█▉        | 190/1000 [02:32<09:33,  1.41it/s]"
     ]
    },
    {
     "name": "stdout",
     "output_type": "stream",
     "text": [
      "{'eval_loss': 0.8514581918716431, 'eval_precision': 0.5036496350364964, 'eval_recall': 0.5630937880633374, 'eval_f1': 0.5317154522974296, 'eval_accuracy': 0.7718547307056012, 'eval_runtime': 0.8043, 'eval_samples_per_second': 99.46, 'eval_steps_per_second': 3.73, 'epoch': 19.0}\n"
     ]
    },
    {
     "name": "stderr",
     "output_type": "stream",
     "text": [
      "                                                  \n",
      " 20%|██        | 200/1000 [02:40<09:27,  1.41it/s]"
     ]
    },
    {
     "name": "stdout",
     "output_type": "stream",
     "text": [
      "{'eval_loss': 0.8420538902282715, 'eval_precision': 0.4968044737367685, 'eval_recall': 0.6059683313032886, 'eval_f1': 0.5459833187006146, 'eval_accuracy': 0.7749008691998635, 'eval_runtime': 0.7852, 'eval_samples_per_second': 101.882, 'eval_steps_per_second': 3.821, 'epoch': 20.0}\n"
     ]
    },
    {
     "name": "stderr",
     "output_type": "stream",
     "text": [
      "                                                  \n",
      " 21%|██        | 210/1000 [02:48<09:19,  1.41it/s]"
     ]
    },
    {
     "name": "stdout",
     "output_type": "stream",
     "text": [
      "{'eval_loss': 0.7984248995780945, 'eval_precision': 0.5204359673024523, 'eval_recall': 0.6048721071863581, 'eval_f1': 0.5594862550698513, 'eval_accuracy': 0.785404795042147, 'eval_runtime': 0.788, 'eval_samples_per_second': 101.521, 'eval_steps_per_second': 3.807, 'epoch': 21.0}\n"
     ]
    },
    {
     "name": "stderr",
     "output_type": "stream",
     "text": [
      "                                                  \n",
      " 22%|██▏       | 220/1000 [02:56<09:12,  1.41it/s]"
     ]
    },
    {
     "name": "stdout",
     "output_type": "stream",
     "text": [
      "{'eval_loss': 0.7873330116271973, 'eval_precision': 0.5171549730146492, 'eval_recall': 0.6535931790499391, 'eval_f1': 0.5774238674270957, 'eval_accuracy': 0.7887397914970721, 'eval_runtime': 0.793, 'eval_samples_per_second': 100.883, 'eval_steps_per_second': 3.783, 'epoch': 22.0}\n"
     ]
    },
    {
     "name": "stderr",
     "output_type": "stream",
     "text": [
      "                                                  \n",
      " 23%|██▎       | 230/1000 [03:03<09:06,  1.41it/s]"
     ]
    },
    {
     "name": "stdout",
     "output_type": "stream",
     "text": [
      "{'eval_loss': 0.7391981482505798, 'eval_precision': 0.5392871607938436, 'eval_recall': 0.648721071863581, 'eval_f1': 0.5889638394338161, 'eval_accuracy': 0.8000052519629212, 'eval_runtime': 0.7889, 'eval_samples_per_second': 101.404, 'eval_steps_per_second': 3.803, 'epoch': 23.0}\n"
     ]
    },
    {
     "name": "stderr",
     "output_type": "stream",
     "text": [
      "                                                  \n",
      " 24%|██▍       | 240/1000 [03:11<09:03,  1.40it/s]"
     ]
    },
    {
     "name": "stdout",
     "output_type": "stream",
     "text": [
      "{'eval_loss': 0.7253175973892212, 'eval_precision': 0.5528940063740105, 'eval_recall': 0.6550548112058465, 'eval_f1': 0.5996543457657356, 'eval_accuracy': 0.8050733961818229, 'eval_runtime': 0.8085, 'eval_samples_per_second': 98.947, 'eval_steps_per_second': 3.711, 'epoch': 24.0}\n"
     ]
    },
    {
     "name": "stderr",
     "output_type": "stream",
     "text": [
      "                                                  \n",
      " 25%|██▌       | 250/1000 [03:19<08:57,  1.40it/s]"
     ]
    },
    {
     "name": "stdout",
     "output_type": "stream",
     "text": [
      "{'eval_loss': 0.714743435382843, 'eval_precision': 0.5535467298952776, 'eval_recall': 0.6824604141291108, 'eval_f1': 0.6112808204233036, 'eval_accuracy': 0.8076468580131825, 'eval_runtime': 0.7896, 'eval_samples_per_second': 101.323, 'eval_steps_per_second': 3.8, 'epoch': 25.0}\n"
     ]
    },
    {
     "name": "stderr",
     "output_type": "stream",
     "text": [
      "                                                  \n",
      " 26%|██▌       | 260/1000 [03:27<08:59,  1.37it/s]"
     ]
    },
    {
     "name": "stdout",
     "output_type": "stream",
     "text": [
      "{'eval_loss': 0.6806948184967041, 'eval_precision': 0.5940496948561464, 'eval_recall': 0.6639464068209501, 'eval_f1': 0.6270562521569079, 'eval_accuracy': 0.8182295632992831, 'eval_runtime': 0.7882, 'eval_samples_per_second': 101.498, 'eval_steps_per_second': 3.806, 'epoch': 26.0}\n"
     ]
    },
    {
     "name": "stderr",
     "output_type": "stream",
     "text": [
      "                                                  \n",
      " 27%|██▋       | 270/1000 [03:35<08:58,  1.36it/s]"
     ]
    },
    {
     "name": "stdout",
     "output_type": "stream",
     "text": [
      "{'eval_loss': 0.6802603602409363, 'eval_precision': 0.5814170292106898, 'eval_recall': 0.6836784409257004, 'eval_f1': 0.6284146887595162, 'eval_accuracy': 0.8192274362543001, 'eval_runtime': 0.8255, 'eval_samples_per_second': 96.906, 'eval_steps_per_second': 3.634, 'epoch': 27.0}\n"
     ]
    },
    {
     "name": "stderr",
     "output_type": "stream",
     "text": [
      "                                                  \n",
      " 28%|██▊       | 280/1000 [03:43<08:34,  1.40it/s]"
     ]
    },
    {
     "name": "stdout",
     "output_type": "stream",
     "text": [
      "{'eval_loss': 0.6806541681289673, 'eval_precision': 0.5767321818542783, 'eval_recall': 0.707673568818514, 'eval_f1': 0.6355283307810107, 'eval_accuracy': 0.8189648381082429, 'eval_runtime': 0.7875, 'eval_samples_per_second': 101.589, 'eval_steps_per_second': 3.81, 'epoch': 28.0}\n"
     ]
    },
    {
     "name": "stderr",
     "output_type": "stream",
     "text": [
      "                                                  \n",
      " 29%|██▉       | 290/1000 [03:51<08:28,  1.40it/s]"
     ]
    },
    {
     "name": "stdout",
     "output_type": "stream",
     "text": [
      "{'eval_loss': 0.669366180896759, 'eval_precision': 0.5835384463916511, 'eval_recall': 0.7219244823386114, 'eval_f1': 0.6453966352697773, 'eval_accuracy': 0.8238754234395105, 'eval_runtime': 0.8192, 'eval_samples_per_second': 97.657, 'eval_steps_per_second': 3.662, 'epoch': 29.0}\n"
     ]
    },
    {
     "name": "stderr",
     "output_type": "stream",
     "text": [
      "                                                  \n",
      " 30%|███       | 300/1000 [03:59<08:17,  1.41it/s]"
     ]
    },
    {
     "name": "stdout",
     "output_type": "stream",
     "text": [
      "{'eval_loss': 0.6328859925270081, 'eval_precision': 0.6447961187478342, 'eval_recall': 0.6799025578562728, 'eval_f1': 0.661884152487105, 'eval_accuracy': 0.8359024185289252, 'eval_runtime': 0.7941, 'eval_samples_per_second': 100.745, 'eval_steps_per_second': 3.778, 'epoch': 30.0}\n"
     ]
    },
    {
     "name": "stderr",
     "output_type": "stream",
     "text": [
      "                                                  \n",
      " 31%|███       | 310/1000 [04:07<08:09,  1.41it/s]"
     ]
    },
    {
     "name": "stdout",
     "output_type": "stream",
     "text": [
      "{'eval_loss': 0.6185032725334167, 'eval_precision': 0.6562762258721976, 'eval_recall': 0.666747868453106, 'eval_f1': 0.6614706060056794, 'eval_accuracy': 0.8388172579501588, 'eval_runtime': 0.7849, 'eval_samples_per_second': 101.93, 'eval_steps_per_second': 3.822, 'epoch': 31.0}\n"
     ]
    },
    {
     "name": "stderr",
     "output_type": "stream",
     "text": [
      "                                                  \n",
      " 32%|███▏      | 320/1000 [04:15<08:19,  1.36it/s]"
     ]
    },
    {
     "name": "stdout",
     "output_type": "stream",
     "text": [
      "{'eval_loss': 0.607053816318512, 'eval_precision': 0.6551804153614108, 'eval_recall': 0.6878197320341047, 'eval_f1': 0.6711034523738785, 'eval_accuracy': 0.8407604842309814, 'eval_runtime': 0.7909, 'eval_samples_per_second': 101.148, 'eval_steps_per_second': 3.793, 'epoch': 32.0}\n"
     ]
    },
    {
     "name": "stderr",
     "output_type": "stream",
     "text": [
      "                                                  \n",
      " 33%|███▎      | 330/1000 [04:23<07:59,  1.40it/s]"
     ]
    },
    {
     "name": "stdout",
     "output_type": "stream",
     "text": [
      "{'eval_loss': 0.6105072498321533, 'eval_precision': 0.6378605370759199, 'eval_recall': 0.7030450669914738, 'eval_f1': 0.6688684164783592, 'eval_accuracy': 0.8413382001523069, 'eval_runtime': 0.7906, 'eval_samples_per_second': 101.185, 'eval_steps_per_second': 3.794, 'epoch': 33.0}\n"
     ]
    },
    {
     "name": "stderr",
     "output_type": "stream",
     "text": [
      "                                                  \n",
      " 34%|███▍      | 340/1000 [04:31<07:47,  1.41it/s]"
     ]
    },
    {
     "name": "stdout",
     "output_type": "stream",
     "text": [
      "{'eval_loss': 0.6281293034553528, 'eval_precision': 0.6086912886391007, 'eval_recall': 0.738733252131547, 'eval_f1': 0.6674369979091009, 'eval_accuracy': 0.8359549381581366, 'eval_runtime': 0.7943, 'eval_samples_per_second': 100.723, 'eval_steps_per_second': 3.777, 'epoch': 34.0}\n"
     ]
    },
    {
     "name": "stderr",
     "output_type": "stream",
     "text": [
      "                                                  \n",
      " 35%|███▌      | 350/1000 [04:39<07:41,  1.41it/s]"
     ]
    },
    {
     "name": "stdout",
     "output_type": "stream",
     "text": [
      "{'eval_loss': 0.5856435298919678, 'eval_precision': 0.644218276310091, 'eval_recall': 0.7247259439707674, 'eval_f1': 0.6821047804654362, 'eval_accuracy': 0.8505816548935164, 'eval_runtime': 0.7895, 'eval_samples_per_second': 101.33, 'eval_steps_per_second': 3.8, 'epoch': 35.0}\n"
     ]
    },
    {
     "name": "stderr",
     "output_type": "stream",
     "text": [
      "                                                  \n",
      " 36%|███▌      | 360/1000 [04:46<07:33,  1.41it/s]"
     ]
    },
    {
     "name": "stdout",
     "output_type": "stream",
     "text": [
      "{'eval_loss': 0.5940728187561035, 'eval_precision': 0.6348660202272964, 'eval_recall': 0.7416565164433617, 'eval_f1': 0.6841188697264199, 'eval_accuracy': 0.8482182715790026, 'eval_runtime': 0.7911, 'eval_samples_per_second': 101.124, 'eval_steps_per_second': 3.792, 'epoch': 36.0}\n"
     ]
    },
    {
     "name": "stderr",
     "output_type": "stream",
     "text": [
      "                                                  \n",
      " 37%|███▋      | 370/1000 [04:54<07:32,  1.39it/s]"
     ]
    },
    {
     "name": "stdout",
     "output_type": "stream",
     "text": [
      "{'eval_loss': 0.5898773074150085, 'eval_precision': 0.6419753086419753, 'eval_recall': 0.7473812423873325, 'eval_f1': 0.6906798739306619, 'eval_accuracy': 0.8503715763766708, 'eval_runtime': 0.7928, 'eval_samples_per_second': 100.909, 'eval_steps_per_second': 3.784, 'epoch': 37.0}\n"
     ]
    },
    {
     "name": "stderr",
     "output_type": "stream",
     "text": [
      "                                                  \n",
      " 38%|███▊      | 380/1000 [05:02<07:24,  1.39it/s]"
     ]
    },
    {
     "name": "stdout",
     "output_type": "stream",
     "text": [
      "{'eval_loss': 0.5576910972595215, 'eval_precision': 0.6675310642895732, 'eval_recall': 0.7524969549330085, 'eval_f1': 0.7074720870312052, 'eval_accuracy': 0.8599038890785431, 'eval_runtime': 0.7916, 'eval_samples_per_second': 101.065, 'eval_steps_per_second': 3.79, 'epoch': 38.0}\n"
     ]
    },
    {
     "name": "stderr",
     "output_type": "stream",
     "text": [
      "                                                  \n",
      " 39%|███▉      | 390/1000 [05:10<07:12,  1.41it/s]"
     ]
    },
    {
     "name": "stdout",
     "output_type": "stream",
     "text": [
      "{'eval_loss': 0.5443633794784546, 'eval_precision': 0.680171277997365, 'eval_recall': 0.7545676004872107, 'eval_f1': 0.715440582053355, 'eval_accuracy': 0.8652871510727135, 'eval_runtime': 0.7934, 'eval_samples_per_second': 100.833, 'eval_steps_per_second': 3.781, 'epoch': 39.0}\n"
     ]
    },
    {
     "name": "stderr",
     "output_type": "stream",
     "text": [
      "                                                  \n",
      " 40%|████      | 400/1000 [05:18<07:05,  1.41it/s]"
     ]
    },
    {
     "name": "stdout",
     "output_type": "stream",
     "text": [
      "{'eval_loss': 0.5642989873886108, 'eval_precision': 0.6582893784258972, 'eval_recall': 0.7752740560292326, 'eval_f1': 0.7120085015940489, 'eval_accuracy': 0.8603240461122345, 'eval_runtime': 0.7917, 'eval_samples_per_second': 101.043, 'eval_steps_per_second': 3.789, 'epoch': 40.0}\n"
     ]
    },
    {
     "name": "stderr",
     "output_type": "stream",
     "text": [
      "                                                  \n",
      " 41%|████      | 410/1000 [05:26<06:58,  1.41it/s]"
     ]
    },
    {
     "name": "stdout",
     "output_type": "stream",
     "text": [
      "{'eval_loss': 0.5296307802200317, 'eval_precision': 0.6952996603484168, 'eval_recall': 0.7729598051157125, 'eval_f1': 0.732075907019669, 'eval_accuracy': 0.871458207505055, 'eval_runtime': 0.789, 'eval_samples_per_second': 101.391, 'eval_steps_per_second': 3.802, 'epoch': 41.0}\n"
     ]
    },
    {
     "name": "stderr",
     "output_type": "stream",
     "text": [
      "                                                  \n",
      " 42%|████▏     | 420/1000 [05:33<06:51,  1.41it/s]"
     ]
    },
    {
     "name": "stdout",
     "output_type": "stream",
     "text": [
      "{'eval_loss': 0.5649476051330566, 'eval_precision': 0.6656632758978618, 'eval_recall': 0.7811205846528624, 'eval_f1': 0.7187850257789733, 'eval_accuracy': 0.8602715264830231, 'eval_runtime': 0.7966, 'eval_samples_per_second': 100.427, 'eval_steps_per_second': 3.766, 'epoch': 42.0}\n"
     ]
    },
    {
     "name": "stderr",
     "output_type": "stream",
     "text": [
      "                                                  \n",
      " 43%|████▎     | 430/1000 [05:41<06:44,  1.41it/s]"
     ]
    },
    {
     "name": "stdout",
     "output_type": "stream",
     "text": [
      "{'eval_loss': 0.5205038785934448, 'eval_precision': 0.7003164902324566, 'eval_recall': 0.7816077953714982, 'eval_f1': 0.7387325159730616, 'eval_accuracy': 0.8744255665555001, 'eval_runtime': 0.7895, 'eval_samples_per_second': 101.325, 'eval_steps_per_second': 3.8, 'epoch': 43.0}\n"
     ]
    },
    {
     "name": "stderr",
     "output_type": "stream",
     "text": [
      "                                                  \n",
      " 44%|████▍     | 440/1000 [05:49<06:37,  1.41it/s]"
     ]
    },
    {
     "name": "stdout",
     "output_type": "stream",
     "text": [
      "{'eval_loss': 0.5317161083221436, 'eval_precision': 0.6906717203621815, 'eval_recall': 0.7990255785627284, 'eval_f1': 0.7409080641517959, 'eval_accuracy': 0.8732963945274547, 'eval_runtime': 0.7927, 'eval_samples_per_second': 100.921, 'eval_steps_per_second': 3.785, 'epoch': 44.0}\n"
     ]
    },
    {
     "name": "stderr",
     "output_type": "stream",
     "text": [
      "                                                  \n",
      " 45%|████▌     | 450/1000 [05:57<06:30,  1.41it/s]"
     ]
    },
    {
     "name": "stdout",
     "output_type": "stream",
     "text": [
      "{'eval_loss': 0.506255030632019, 'eval_precision': 0.7195067762719396, 'eval_recall': 0.7889159561510353, 'eval_f1': 0.7526144550313735, 'eval_accuracy': 0.8809117407631102, 'eval_runtime': 0.7971, 'eval_samples_per_second': 100.366, 'eval_steps_per_second': 3.764, 'epoch': 45.0}\n"
     ]
    },
    {
     "name": "stderr",
     "output_type": "stream",
     "text": [
      "                                                  \n",
      " 46%|████▌     | 460/1000 [06:05<06:23,  1.41it/s]"
     ]
    },
    {
     "name": "stdout",
     "output_type": "stream",
     "text": [
      "{'eval_loss': 0.5025786757469177, 'eval_precision': 0.7227232732072152, 'eval_recall': 0.8003654080389768, 'eval_f1': 0.75956536816553, 'eval_accuracy': 0.8832226044484126, 'eval_runtime': 0.7901, 'eval_samples_per_second': 101.255, 'eval_steps_per_second': 3.797, 'epoch': 46.0}\n"
     ]
    },
    {
     "name": "stderr",
     "output_type": "stream",
     "text": [
      "                                                  \n",
      " 47%|████▋     | 470/1000 [06:13<06:16,  1.41it/s]"
     ]
    },
    {
     "name": "stdout",
     "output_type": "stream",
     "text": [
      "{'eval_loss': 0.482174813747406, 'eval_precision': 0.7345583351782157, 'eval_recall': 0.8082825822168088, 'eval_f1': 0.7696590118302019, 'eval_accuracy': 0.8899713768020798, 'eval_runtime': 0.7888, 'eval_samples_per_second': 101.424, 'eval_steps_per_second': 3.803, 'epoch': 47.0}\n"
     ]
    },
    {
     "name": "stderr",
     "output_type": "stream",
     "text": [
      "                                                  \n",
      " 48%|████▊     | 480/1000 [06:21<06:08,  1.41it/s]"
     ]
    },
    {
     "name": "stdout",
     "output_type": "stream",
     "text": [
      "{'eval_loss': 0.49490952491760254, 'eval_precision': 0.7226498969966388, 'eval_recall': 0.8118148599269184, 'eval_f1': 0.7646417713531808, 'eval_accuracy': 0.885533468133715, 'eval_runtime': 0.7937, 'eval_samples_per_second': 100.789, 'eval_steps_per_second': 3.78, 'epoch': 48.0}\n"
     ]
    },
    {
     "name": "stderr",
     "output_type": "stream",
     "text": [
      "                                                  \n",
      " 49%|████▉     | 490/1000 [06:28<06:02,  1.41it/s]"
     ]
    },
    {
     "name": "stdout",
     "output_type": "stream",
     "text": [
      "{'eval_loss': 0.4964725077152252, 'eval_precision': 0.7251000324429545, 'eval_recall': 0.8166869671132765, 'eval_f1': 0.7681732256401445, 'eval_accuracy': 0.8869252383078176, 'eval_runtime': 0.7933, 'eval_samples_per_second': 100.848, 'eval_steps_per_second': 3.782, 'epoch': 49.0}\n"
     ]
    },
    {
     "name": "stderr",
     "output_type": "stream",
     "text": [
      " 50%|█████     | 500/1000 [06:35<05:54,  1.41it/s]"
     ]
    },
    {
     "name": "stdout",
     "output_type": "stream",
     "text": [
      "{'loss': 0.7833, 'learning_rate': 1e-05, 'epoch': 50.0}\n"
     ]
    },
    {
     "name": "stderr",
     "output_type": "stream",
     "text": [
      "                                                  \n",
      " 50%|█████     | 500/1000 [06:37<05:54,  1.41it/s]"
     ]
    },
    {
     "name": "stdout",
     "output_type": "stream",
     "text": [
      "{'eval_loss': 0.46509256958961487, 'eval_precision': 0.7528832157653118, 'eval_recall': 0.8190012180267966, 'eval_f1': 0.7845516597631411, 'eval_accuracy': 0.8962474724928442, 'eval_runtime': 0.7898, 'eval_samples_per_second': 101.29, 'eval_steps_per_second': 3.798, 'epoch': 50.0}\n"
     ]
    },
    {
     "name": "stderr",
     "output_type": "stream",
     "text": [
      "                                                  \n",
      " 51%|█████     | 510/1000 [06:45<05:54,  1.38it/s]"
     ]
    },
    {
     "name": "stdout",
     "output_type": "stream",
     "text": [
      "{'eval_loss': 0.46652188897132874, 'eval_precision': 0.7620575094512544, 'eval_recall': 0.810231425091352, 'eval_f1': 0.7854064584686227, 'eval_accuracy': 0.8975604632231297, 'eval_runtime': 0.7947, 'eval_samples_per_second': 100.661, 'eval_steps_per_second': 3.775, 'epoch': 51.0}\n"
     ]
    },
    {
     "name": "stderr",
     "output_type": "stream",
     "text": [
      "                                                  \n",
      " 52%|█████▏    | 520/1000 [06:53<05:41,  1.41it/s]"
     ]
    },
    {
     "name": "stdout",
     "output_type": "stream",
     "text": [
      "{'eval_loss': 0.4828387200832367, 'eval_precision': 0.7294644762107958, 'eval_recall': 0.8328867235079171, 'eval_f1': 0.7777525022747953, 'eval_accuracy': 0.8911268086447309, 'eval_runtime': 0.7894, 'eval_samples_per_second': 101.347, 'eval_steps_per_second': 3.801, 'epoch': 52.0}\n"
     ]
    },
    {
     "name": "stderr",
     "output_type": "stream",
     "text": [
      "                                                  \n",
      " 53%|█████▎    | 530/1000 [07:01<05:33,  1.41it/s]"
     ]
    },
    {
     "name": "stdout",
     "output_type": "stream",
     "text": [
      "{'eval_loss': 0.4808066487312317, 'eval_precision': 0.7324970515707087, 'eval_recall': 0.8321559074299635, 'eval_f1': 0.779152648685636, 'eval_accuracy': 0.8930437751109477, 'eval_runtime': 0.7981, 'eval_samples_per_second': 100.236, 'eval_steps_per_second': 3.759, 'epoch': 53.0}\n"
     ]
    },
    {
     "name": "stderr",
     "output_type": "stream",
     "text": [
      "                                                  \n",
      " 54%|█████▍    | 540/1000 [07:09<05:26,  1.41it/s]"
     ]
    },
    {
     "name": "stdout",
     "output_type": "stream",
     "text": [
      "{'eval_loss': 0.44985347986221313, 'eval_precision': 0.7780066369149788, 'eval_recall': 0.828136419001218, 'eval_f1': 0.8022892206029855, 'eval_accuracy': 0.903573960767837, 'eval_runtime': 0.7933, 'eval_samples_per_second': 100.844, 'eval_steps_per_second': 3.782, 'epoch': 54.0}\n"
     ]
    },
    {
     "name": "stderr",
     "output_type": "stream",
     "text": [
      "                                                  \n",
      " 55%|█████▌    | 550/1000 [07:17<05:19,  1.41it/s]"
     ]
    },
    {
     "name": "stdout",
     "output_type": "stream",
     "text": [
      "{'eval_loss': 0.44415387511253357, 'eval_precision': 0.7795618763619682, 'eval_recall': 0.8278928136419001, 'eval_f1': 0.8030007679130486, 'eval_accuracy': 0.9045718337228539, 'eval_runtime': 0.788, 'eval_samples_per_second': 101.524, 'eval_steps_per_second': 3.807, 'epoch': 55.0}\n"
     ]
    },
    {
     "name": "stderr",
     "output_type": "stream",
     "text": [
      "                                                  \n",
      " 56%|█████▌    | 560/1000 [07:24<05:12,  1.41it/s]"
     ]
    },
    {
     "name": "stdout",
     "output_type": "stream",
     "text": [
      "{'eval_loss': 0.4466838836669922, 'eval_precision': 0.7754294755877035, 'eval_recall': 0.835688185140073, 'eval_f1': 0.8044319380935631, 'eval_accuracy': 0.9061474225991965, 'eval_runtime': 0.7912, 'eval_samples_per_second': 101.115, 'eval_steps_per_second': 3.792, 'epoch': 56.0}\n"
     ]
    },
    {
     "name": "stderr",
     "output_type": "stream",
     "text": [
      "                                                  \n",
      " 57%|█████▋    | 570/1000 [07:32<05:04,  1.41it/s]"
     ]
    },
    {
     "name": "stdout",
     "output_type": "stream",
     "text": [
      "{'eval_loss': 0.4501616954803467, 'eval_precision': 0.7762623985572588, 'eval_recall': 0.8388550548112058, 'eval_f1': 0.8063458611403816, 'eval_accuracy': 0.9050970300149681, 'eval_runtime': 0.7883, 'eval_samples_per_second': 101.49, 'eval_steps_per_second': 3.806, 'epoch': 57.0}\n"
     ]
    },
    {
     "name": "stderr",
     "output_type": "stream",
     "text": [
      "                                                  \n",
      " 58%|█████▊    | 580/1000 [07:40<04:57,  1.41it/s]"
     ]
    },
    {
     "name": "stdout",
     "output_type": "stream",
     "text": [
      "{'eval_loss': 0.4412660598754883, 'eval_precision': 0.7848288411236211, 'eval_recall': 0.8405602923264311, 'eval_f1': 0.8117391048638476, 'eval_accuracy': 0.9075917124025105, 'eval_runtime': 0.791, 'eval_samples_per_second': 101.134, 'eval_steps_per_second': 3.793, 'epoch': 58.0}\n"
     ]
    },
    {
     "name": "stderr",
     "output_type": "stream",
     "text": [
      "                                                  \n",
      " 59%|█████▉    | 590/1000 [07:48<04:51,  1.41it/s]"
     ]
    },
    {
     "name": "stdout",
     "output_type": "stream",
     "text": [
      "{'eval_loss': 0.4520648121833801, 'eval_precision': 0.764918824045634, 'eval_recall': 0.8493300852618758, 'eval_f1': 0.8049174650813806, 'eval_accuracy': 0.9044142748352196, 'eval_runtime': 0.7885, 'eval_samples_per_second': 101.454, 'eval_steps_per_second': 3.805, 'epoch': 59.0}\n"
     ]
    },
    {
     "name": "stderr",
     "output_type": "stream",
     "text": [
      "                                                  \n",
      " 60%|██████    | 600/1000 [07:56<04:43,  1.41it/s]"
     ]
    },
    {
     "name": "stdout",
     "output_type": "stream",
     "text": [
      "{'eval_loss': 0.4382166862487793, 'eval_precision': 0.7810227145574578, 'eval_recall': 0.8501827040194885, 'eval_f1': 0.814136583658949, 'eval_accuracy': 0.9094561592395157, 'eval_runtime': 0.7884, 'eval_samples_per_second': 101.467, 'eval_steps_per_second': 3.805, 'epoch': 60.0}\n"
     ]
    },
    {
     "name": "stderr",
     "output_type": "stream",
     "text": [
      "                                                  \n",
      " 61%|██████    | 610/1000 [08:04<04:36,  1.41it/s]"
     ]
    },
    {
     "name": "stdout",
     "output_type": "stream",
     "text": [
      "{'eval_loss': 0.44260209798812866, 'eval_precision': 0.7775680177679067, 'eval_recall': 0.8528623629719854, 'eval_f1': 0.813476619227418, 'eval_accuracy': 0.9090360022058245, 'eval_runtime': 0.8017, 'eval_samples_per_second': 99.783, 'eval_steps_per_second': 3.742, 'epoch': 61.0}\n"
     ]
    },
    {
     "name": "stderr",
     "output_type": "stream",
     "text": [
      "                                                  \n",
      " 62%|██████▏   | 620/1000 [08:11<04:29,  1.41it/s]"
     ]
    },
    {
     "name": "stdout",
     "output_type": "stream",
     "text": [
      "{'eval_loss': 0.4311789572238922, 'eval_precision': 0.7956867196367764, 'eval_recall': 0.853836784409257, 'eval_f1': 0.8237367802585195, 'eval_accuracy': 0.9136839893910349, 'eval_runtime': 0.8029, 'eval_samples_per_second': 99.635, 'eval_steps_per_second': 3.736, 'epoch': 62.0}\n"
     ]
    },
    {
     "name": "stderr",
     "output_type": "stream",
     "text": [
      "                                                  \n",
      " 63%|██████▎   | 630/1000 [08:19<04:22,  1.41it/s]"
     ]
    },
    {
     "name": "stdout",
     "output_type": "stream",
     "text": [
      "{'eval_loss': 0.4474070966243744, 'eval_precision': 0.772281590833976, 'eval_recall': 0.853836784409257, 'eval_f1': 0.8110140568056923, 'eval_accuracy': 0.9079593498069903, 'eval_runtime': 0.795, 'eval_samples_per_second': 100.635, 'eval_steps_per_second': 3.774, 'epoch': 63.0}\n"
     ]
    },
    {
     "name": "stderr",
     "output_type": "stream",
     "text": [
      "                                                  \n",
      " 64%|██████▍   | 640/1000 [08:27<04:15,  1.41it/s]"
     ]
    },
    {
     "name": "stdout",
     "output_type": "stream",
     "text": [
      "{'eval_loss': 0.4250737726688385, 'eval_precision': 0.7976556276317287, 'eval_recall': 0.853714981729598, 'eval_f1': 0.8247337765488028, 'eval_accuracy': 0.9137890286494578, 'eval_runtime': 0.7915, 'eval_samples_per_second': 101.068, 'eval_steps_per_second': 3.79, 'epoch': 64.0}\n"
     ]
    },
    {
     "name": "stderr",
     "output_type": "stream",
     "text": [
      "                                                  \n",
      " 65%|██████▌   | 650/1000 [08:35<04:08,  1.41it/s]"
     ]
    },
    {
     "name": "stdout",
     "output_type": "stream",
     "text": [
      "{'eval_loss': 0.43857717514038086, 'eval_precision': 0.7814745219409749, 'eval_recall': 0.8611449451887941, 'eval_f1': 0.8193776438546677, 'eval_accuracy': 0.9111893070034925, 'eval_runtime': 0.7893, 'eval_samples_per_second': 101.356, 'eval_steps_per_second': 3.801, 'epoch': 65.0}\n"
     ]
    },
    {
     "name": "stderr",
     "output_type": "stream",
     "text": [
      "                                                  \n",
      " 66%|██████▌   | 660/1000 [08:43<04:01,  1.41it/s]"
     ]
    },
    {
     "name": "stdout",
     "output_type": "stream",
     "text": [
      "{'eval_loss': 0.4270660877227783, 'eval_precision': 0.7948458248930903, 'eval_recall': 0.8602923264311815, 'eval_f1': 0.8262751520823585, 'eval_accuracy': 0.9151545390089546, 'eval_runtime': 0.7909, 'eval_samples_per_second': 101.155, 'eval_steps_per_second': 3.793, 'epoch': 66.0}\n"
     ]
    },
    {
     "name": "stderr",
     "output_type": "stream",
     "text": [
      "                                                  \n",
      " 67%|██████▋   | 670/1000 [08:51<03:53,  1.41it/s]"
     ]
    },
    {
     "name": "stdout",
     "output_type": "stream",
     "text": [
      "{'eval_loss': 0.4261462092399597, 'eval_precision': 0.8035163831487613, 'eval_recall': 0.8572472594397077, 'eval_f1': 0.829512640697743, 'eval_accuracy': 0.9159685932617315, 'eval_runtime': 0.7988, 'eval_samples_per_second': 100.145, 'eval_steps_per_second': 3.755, 'epoch': 67.0}\n"
     ]
    },
    {
     "name": "stderr",
     "output_type": "stream",
     "text": [
      "                                                  \n",
      " 68%|██████▊   | 680/1000 [08:59<03:47,  1.41it/s]"
     ]
    },
    {
     "name": "stdout",
     "output_type": "stream",
     "text": [
      "{'eval_loss': 0.4154953062534332, 'eval_precision': 0.81036866359447, 'eval_recall': 0.8567600487210718, 'eval_f1': 0.8329188869153346, 'eval_accuracy': 0.9179905989863711, 'eval_runtime': 0.7929, 'eval_samples_per_second': 100.9, 'eval_steps_per_second': 3.784, 'epoch': 68.0}\n"
     ]
    },
    {
     "name": "stderr",
     "output_type": "stream",
     "text": [
      "                                                  \n",
      " 69%|██████▉   | 690/1000 [09:06<03:39,  1.41it/s]"
     ]
    },
    {
     "name": "stdout",
     "output_type": "stream",
     "text": [
      "{'eval_loss': 0.4243377149105072, 'eval_precision': 0.8063263674774466, 'eval_recall': 0.8600487210718636, 'eval_f1': 0.8323215653916427, 'eval_accuracy': 0.9173341036212285, 'eval_runtime': 0.793, 'eval_samples_per_second': 100.887, 'eval_steps_per_second': 3.783, 'epoch': 69.0}\n"
     ]
    },
    {
     "name": "stderr",
     "output_type": "stream",
     "text": [
      "                                                  \n",
      " 70%|███████   | 700/1000 [09:14<03:33,  1.41it/s]"
     ]
    },
    {
     "name": "stdout",
     "output_type": "stream",
     "text": [
      "{'eval_loss': 0.42441409826278687, 'eval_precision': 0.7976592392527572, 'eval_recall': 0.8633373934226553, 'eval_f1': 0.8291998128217127, 'eval_accuracy': 0.9161524119639716, 'eval_runtime': 0.8036, 'eval_samples_per_second': 99.555, 'eval_steps_per_second': 3.733, 'epoch': 70.0}\n"
     ]
    },
    {
     "name": "stderr",
     "output_type": "stream",
     "text": [
      "                                                  \n",
      " 71%|███████   | 710/1000 [09:22<03:26,  1.41it/s]"
     ]
    },
    {
     "name": "stdout",
     "output_type": "stream",
     "text": [
      "{'eval_loss': 0.42570215463638306, 'eval_precision': 0.7941506051098163, 'eval_recall': 0.8632155907429964, 'eval_f1': 0.827244076105988, 'eval_accuracy': 0.9164412699246344, 'eval_runtime': 0.7952, 'eval_samples_per_second': 100.599, 'eval_steps_per_second': 3.772, 'epoch': 71.0}\n"
     ]
    },
    {
     "name": "stderr",
     "output_type": "stream",
     "text": [
      "                                                  \n",
      " 72%|███████▏  | 720/1000 [09:30<03:18,  1.41it/s]"
     ]
    },
    {
     "name": "stdout",
     "output_type": "stream",
     "text": [
      "{'eval_loss': 0.42177873849868774, 'eval_precision': 0.7980477953550993, 'eval_recall': 0.8663824604141291, 'eval_f1': 0.8308123576476085, 'eval_accuracy': 0.9181744176886111, 'eval_runtime': 0.7919, 'eval_samples_per_second': 101.024, 'eval_steps_per_second': 3.788, 'epoch': 72.0}\n"
     ]
    },
    {
     "name": "stderr",
     "output_type": "stream",
     "text": [
      "                                                  \n",
      " 73%|███████▎  | 730/1000 [09:38<03:11,  1.41it/s]"
     ]
    },
    {
     "name": "stdout",
     "output_type": "stream",
     "text": [
      "{'eval_loss': 0.4255438446998596, 'eval_precision': 0.8054925102133454, 'eval_recall': 0.8645554202192448, 'eval_f1': 0.8339795558688755, 'eval_accuracy': 0.9191197710144167, 'eval_runtime': 0.7918, 'eval_samples_per_second': 101.03, 'eval_steps_per_second': 3.789, 'epoch': 73.0}\n"
     ]
    },
    {
     "name": "stderr",
     "output_type": "stream",
     "text": [
      "                                                  \n",
      " 74%|███████▍  | 740/1000 [09:46<03:04,  1.41it/s]"
     ]
    },
    {
     "name": "stdout",
     "output_type": "stream",
     "text": [
      "{'eval_loss': 0.4217095971107483, 'eval_precision': 0.803026880505986, 'eval_recall': 0.8660170523751523, 'eval_f1': 0.8333333333333334, 'eval_accuracy': 0.9186733541661196, 'eval_runtime': 0.7929, 'eval_samples_per_second': 100.897, 'eval_steps_per_second': 3.784, 'epoch': 74.0}\n"
     ]
    },
    {
     "name": "stderr",
     "output_type": "stream",
     "text": [
      "                                                  \n",
      " 75%|███████▌  | 750/1000 [09:53<02:57,  1.41it/s]"
     ]
    },
    {
     "name": "stdout",
     "output_type": "stream",
     "text": [
      "{'eval_loss': 0.4300447404384613, 'eval_precision': 0.785831960461285, 'eval_recall': 0.8714981729598051, 'eval_f1': 0.8264510539994225, 'eval_accuracy': 0.9156272156718573, 'eval_runtime': 0.7938, 'eval_samples_per_second': 100.781, 'eval_steps_per_second': 3.779, 'epoch': 75.0}\n"
     ]
    },
    {
     "name": "stderr",
     "output_type": "stream",
     "text": [
      "                                                  \n",
      " 76%|███████▌  | 760/1000 [10:01<02:50,  1.41it/s]"
     ]
    },
    {
     "name": "stdout",
     "output_type": "stream",
     "text": [
      "{'eval_loss': 0.4175487160682678, 'eval_precision': 0.806477093206951, 'eval_recall': 0.8705237515225335, 'eval_f1': 0.837277413308341, 'eval_accuracy': 0.9202226832278564, 'eval_runtime': 0.794, 'eval_samples_per_second': 100.75, 'eval_steps_per_second': 3.778, 'epoch': 76.0}\n"
     ]
    },
    {
     "name": "stderr",
     "output_type": "stream",
     "text": [
      "                                                  \n",
      " 77%|███████▋  | 770/1000 [10:09<02:43,  1.41it/s]"
     ]
    },
    {
     "name": "stdout",
     "output_type": "stream",
     "text": [
      "{'eval_loss': 0.41696634888648987, 'eval_precision': 0.8148657949070888, 'eval_recall': 0.8652862362971986, 'eval_f1': 0.839319470699433, 'eval_accuracy': 0.9197762663795593, 'eval_runtime': 0.7925, 'eval_samples_per_second': 100.944, 'eval_steps_per_second': 3.785, 'epoch': 77.0}\n"
     ]
    },
    {
     "name": "stderr",
     "output_type": "stream",
     "text": [
      "                                                  \n",
      " 78%|███████▊  | 780/1000 [10:17<02:36,  1.41it/s]"
     ]
    },
    {
     "name": "stdout",
     "output_type": "stream",
     "text": [
      "{'eval_loss': 0.41420692205429077, 'eval_precision': 0.8147008547008547, 'eval_recall': 0.8707673568818514, 'eval_f1': 0.8418015896379157, 'eval_accuracy': 0.9213255954412962, 'eval_runtime': 0.7965, 'eval_samples_per_second': 100.434, 'eval_steps_per_second': 3.766, 'epoch': 78.0}\n"
     ]
    },
    {
     "name": "stderr",
     "output_type": "stream",
     "text": [
      "                                                  \n",
      " 79%|███████▉  | 790/1000 [10:25<02:29,  1.41it/s]"
     ]
    },
    {
     "name": "stdout",
     "output_type": "stream",
     "text": [
      "{'eval_loss': 0.41336527466773987, 'eval_precision': 0.8174922422710034, 'eval_recall': 0.8663824604141291, 'eval_f1': 0.8412276033351074, 'eval_accuracy': 0.921798272104199, 'eval_runtime': 0.7899, 'eval_samples_per_second': 101.274, 'eval_steps_per_second': 3.798, 'epoch': 79.0}\n"
     ]
    },
    {
     "name": "stderr",
     "output_type": "stream",
     "text": [
      "                                                  \n",
      " 80%|████████  | 800/1000 [10:33<02:21,  1.41it/s]"
     ]
    },
    {
     "name": "stdout",
     "output_type": "stream",
     "text": [
      "{'eval_loss': 0.41430655121803284, 'eval_precision': 0.8152409158218475, 'eval_recall': 0.871741778319123, 'eval_f1': 0.8425451762905409, 'eval_accuracy': 0.9221921693232846, 'eval_runtime': 0.7982, 'eval_samples_per_second': 100.225, 'eval_steps_per_second': 3.758, 'epoch': 80.0}\n"
     ]
    },
    {
     "name": "stderr",
     "output_type": "stream",
     "text": [
      "                                                  \n",
      " 81%|████████  | 810/1000 [10:41<02:14,  1.41it/s]"
     ]
    },
    {
     "name": "stdout",
     "output_type": "stream",
     "text": [
      "{'eval_loss': 0.425647497177124, 'eval_precision': 0.7989541611036938, 'eval_recall': 0.8746650426309379, 'eval_f1': 0.835097104314455, 'eval_accuracy': 0.9185157952784854, 'eval_runtime': 0.7912, 'eval_samples_per_second': 101.117, 'eval_steps_per_second': 3.792, 'epoch': 81.0}\n"
     ]
    },
    {
     "name": "stderr",
     "output_type": "stream",
     "text": [
      "                                                  \n",
      " 82%|████████▏ | 820/1000 [10:48<02:07,  1.41it/s]"
     ]
    },
    {
     "name": "stdout",
     "output_type": "stream",
     "text": [
      "{'eval_loss': 0.4168567657470703, 'eval_precision': 0.8078568212516885, 'eval_recall': 0.874177831912302, 'eval_f1': 0.8397098397098397, 'eval_accuracy': 0.9204065019300963, 'eval_runtime': 0.7936, 'eval_samples_per_second': 100.806, 'eval_steps_per_second': 3.78, 'epoch': 82.0}\n"
     ]
    },
    {
     "name": "stderr",
     "output_type": "stream",
     "text": [
      "                                                  \n",
      " 83%|████████▎ | 830/1000 [10:56<02:00,  1.41it/s]"
     ]
    },
    {
     "name": "stdout",
     "output_type": "stream",
     "text": [
      "{'eval_loss': 0.41445666551589966, 'eval_precision': 0.8108260820431687, 'eval_recall': 0.8739342265529841, 'eval_f1': 0.8411981945014362, 'eval_accuracy': 0.9210104776660277, 'eval_runtime': 0.7922, 'eval_samples_per_second': 100.982, 'eval_steps_per_second': 3.787, 'epoch': 83.0}\n"
     ]
    },
    {
     "name": "stderr",
     "output_type": "stream",
     "text": [
      "                                                  \n",
      " 84%|████████▍ | 840/1000 [11:04<01:53,  1.41it/s]"
     ]
    },
    {
     "name": "stdout",
     "output_type": "stream",
     "text": [
      "{'eval_loss': 0.41274207830429077, 'eval_precision': 0.8177874186550976, 'eval_recall': 0.8724725943970767, 'eval_f1': 0.844245388649891, 'eval_accuracy': 0.9220083506210446, 'eval_runtime': 0.7957, 'eval_samples_per_second': 100.537, 'eval_steps_per_second': 3.77, 'epoch': 84.0}\n"
     ]
    },
    {
     "name": "stderr",
     "output_type": "stream",
     "text": [
      "                                                  \n",
      " 85%|████████▌ | 850/1000 [11:12<01:46,  1.41it/s]"
     ]
    },
    {
     "name": "stdout",
     "output_type": "stream",
     "text": [
      "{'eval_loss': 0.41598033905029297, 'eval_precision': 0.8137266023823029, 'eval_recall': 0.8736906211936663, 'eval_f1': 0.8426431718061673, 'eval_accuracy': 0.9215094141435362, 'eval_runtime': 0.7891, 'eval_samples_per_second': 101.382, 'eval_steps_per_second': 3.802, 'epoch': 85.0}\n"
     ]
    },
    {
     "name": "stderr",
     "output_type": "stream",
     "text": [
      "                                                  \n",
      " 86%|████████▌ | 860/1000 [11:20<01:39,  1.41it/s]"
     ]
    },
    {
     "name": "stdout",
     "output_type": "stream",
     "text": [
      "{'eval_loss': 0.41423219442367554, 'eval_precision': 0.8163893321176202, 'eval_recall': 0.8724725943970767, 'eval_f1': 0.8434997644842205, 'eval_accuracy': 0.9222709487671017, 'eval_runtime': 0.7915, 'eval_samples_per_second': 101.075, 'eval_steps_per_second': 3.79, 'epoch': 86.0}\n"
     ]
    },
    {
     "name": "stderr",
     "output_type": "stream",
     "text": [
      "                                                  \n",
      " 87%|████████▋ | 870/1000 [11:28<01:32,  1.41it/s]"
     ]
    },
    {
     "name": "stdout",
     "output_type": "stream",
     "text": [
      "{'eval_loss': 0.41242876648902893, 'eval_precision': 0.8200390221508091, 'eval_recall': 0.8702801461632156, 'eval_f1': 0.844412929149678, 'eval_accuracy': 0.9223759880255246, 'eval_runtime': 0.7916, 'eval_samples_per_second': 101.063, 'eval_steps_per_second': 3.79, 'epoch': 87.0}\n"
     ]
    },
    {
     "name": "stderr",
     "output_type": "stream",
     "text": [
      "                                                  \n",
      " 88%|████████▊ | 880/1000 [11:35<01:25,  1.41it/s]"
     ]
    },
    {
     "name": "stdout",
     "output_type": "stream",
     "text": [
      "{'eval_loss': 0.413313090801239, 'eval_precision': 0.8118655538010376, 'eval_recall': 0.87673568818514, 'eval_f1': 0.8430545795268213, 'eval_accuracy': 0.9223759880255246, 'eval_runtime': 0.7933, 'eval_samples_per_second': 100.846, 'eval_steps_per_second': 3.782, 'epoch': 88.0}\n"
     ]
    },
    {
     "name": "stderr",
     "output_type": "stream",
     "text": [
      "                                                  \n",
      " 89%|████████▉ | 890/1000 [11:43<01:18,  1.40it/s]"
     ]
    },
    {
     "name": "stdout",
     "output_type": "stream",
     "text": [
      "{'eval_loss': 0.4101312756538391, 'eval_precision': 0.8172681589767017, 'eval_recall': 0.871619975639464, 'eval_f1': 0.8435694919250265, 'eval_accuracy': 0.9225335469131588, 'eval_runtime': 0.7914, 'eval_samples_per_second': 101.081, 'eval_steps_per_second': 3.791, 'epoch': 89.0}\n"
     ]
    },
    {
     "name": "stderr",
     "output_type": "stream",
     "text": [
      "                                                  \n",
      " 90%|█████████ | 900/1000 [11:51<01:11,  1.41it/s]"
     ]
    },
    {
     "name": "stdout",
     "output_type": "stream",
     "text": [
      "{'eval_loss': 0.4123673439025879, 'eval_precision': 0.8181922066049594, 'eval_recall': 0.8721071863580999, 'eval_f1': 0.8442898414008608, 'eval_accuracy': 0.9230062235760615, 'eval_runtime': 0.7952, 'eval_samples_per_second': 100.601, 'eval_steps_per_second': 3.773, 'epoch': 90.0}\n"
     ]
    },
    {
     "name": "stderr",
     "output_type": "stream",
     "text": [
      "                                                  \n",
      " 91%|█████████ | 910/1000 [11:59<01:03,  1.41it/s]"
     ]
    },
    {
     "name": "stdout",
     "output_type": "stream",
     "text": [
      "{'eval_loss': 0.41655898094177246, 'eval_precision': 0.8143862037667348, 'eval_recall': 0.874299634591961, 'eval_f1': 0.84328007518797, 'eval_accuracy': 0.9222972085817074, 'eval_runtime': 0.7869, 'eval_samples_per_second': 101.662, 'eval_steps_per_second': 3.812, 'epoch': 91.0}\n"
     ]
    },
    {
     "name": "stderr",
     "output_type": "stream",
     "text": [
      "                                                  \n",
      " 92%|█████████▏| 920/1000 [12:07<00:57,  1.40it/s]"
     ]
    },
    {
     "name": "stdout",
     "output_type": "stream",
     "text": [
      "{'eval_loss': 0.4152170717716217, 'eval_precision': 0.8129170908268295, 'eval_recall': 0.8753958587088916, 'eval_f1': 0.8430004105331066, 'eval_accuracy': 0.9220871300648618, 'eval_runtime': 0.8171, 'eval_samples_per_second': 97.904, 'eval_steps_per_second': 3.671, 'epoch': 92.0}\n"
     ]
    },
    {
     "name": "stderr",
     "output_type": "stream",
     "text": [
      "                                                  \n",
      " 93%|█████████▎| 930/1000 [12:15<00:50,  1.38it/s]"
     ]
    },
    {
     "name": "stdout",
     "output_type": "stream",
     "text": [
      "{'eval_loss': 0.4144037365913391, 'eval_precision': 0.8164218198382872, 'eval_recall': 0.8732034104750305, 'eval_f1': 0.8438585133305868, 'eval_accuracy': 0.9226648459861874, 'eval_runtime': 0.785, 'eval_samples_per_second': 101.916, 'eval_steps_per_second': 3.822, 'epoch': 93.0}\n"
     ]
    },
    {
     "name": "stderr",
     "output_type": "stream",
     "text": [
      "                                                  \n",
      " 94%|█████████▍| 940/1000 [12:23<00:42,  1.40it/s]"
     ]
    },
    {
     "name": "stdout",
     "output_type": "stream",
     "text": [
      "{'eval_loss': 0.413412868976593, 'eval_precision': 0.816850232769388, 'eval_recall': 0.8762484774665042, 'eval_f1': 0.8455074337427279, 'eval_accuracy': 0.9233738609805415, 'eval_runtime': 0.7916, 'eval_samples_per_second': 101.063, 'eval_steps_per_second': 3.79, 'epoch': 94.0}\n"
     ]
    },
    {
     "name": "stderr",
     "output_type": "stream",
     "text": [
      "                                                  \n",
      " 95%|█████████▌| 950/1000 [12:31<00:37,  1.33it/s]"
     ]
    },
    {
     "name": "stdout",
     "output_type": "stream",
     "text": [
      "{'eval_loss': 0.41203370690345764, 'eval_precision': 0.8173863636363636, 'eval_recall': 0.8761266747868454, 'eval_f1': 0.845737801293357, 'eval_accuracy': 0.9237152385704157, 'eval_runtime': 0.801, 'eval_samples_per_second': 99.88, 'eval_steps_per_second': 3.746, 'epoch': 95.0}\n"
     ]
    },
    {
     "name": "stderr",
     "output_type": "stream",
     "text": [
      "                                                  \n",
      " 96%|█████████▌| 960/1000 [12:39<00:28,  1.41it/s]"
     ]
    },
    {
     "name": "stdout",
     "output_type": "stream",
     "text": [
      "{'eval_loss': 0.4117720127105713, 'eval_precision': 0.8149071137290439, 'eval_recall': 0.8762484774665042, 'eval_f1': 0.8444653128301443, 'eval_accuracy': 0.9233476011659357, 'eval_runtime': 0.7878, 'eval_samples_per_second': 101.544, 'eval_steps_per_second': 3.808, 'epoch': 96.0}\n"
     ]
    },
    {
     "name": "stderr",
     "output_type": "stream",
     "text": [
      "                                                  \n",
      " 97%|█████████▋| 970/1000 [12:47<00:21,  1.41it/s]"
     ]
    },
    {
     "name": "stdout",
     "output_type": "stream",
     "text": [
      "{'eval_loss': 0.41235455870628357, 'eval_precision': 0.8163520582215147, 'eval_recall': 0.87442143727162, 'eval_f1': 0.8443895553987297, 'eval_accuracy': 0.92350516005357, 'eval_runtime': 0.7921, 'eval_samples_per_second': 101.002, 'eval_steps_per_second': 3.788, 'epoch': 97.0}\n"
     ]
    },
    {
     "name": "stderr",
     "output_type": "stream",
     "text": [
      "                                                  \n",
      " 98%|█████████▊| 980/1000 [12:54<00:14,  1.41it/s]"
     ]
    },
    {
     "name": "stdout",
     "output_type": "stream",
     "text": [
      "{'eval_loss': 0.4133480191230774, 'eval_precision': 0.8159718277859821, 'eval_recall': 0.8749086479902558, 'eval_f1': 0.8444130958678657, 'eval_accuracy': 0.9231900422783015, 'eval_runtime': 0.793, 'eval_samples_per_second': 100.881, 'eval_steps_per_second': 3.783, 'epoch': 98.0}\n"
     ]
    },
    {
     "name": "stderr",
     "output_type": "stream",
     "text": [
      "                                                  \n",
      " 99%|█████████▉| 990/1000 [13:02<00:07,  1.41it/s]"
     ]
    },
    {
     "name": "stdout",
     "output_type": "stream",
     "text": [
      "{'eval_loss': 0.4141826629638672, 'eval_precision': 0.8160045402951192, 'eval_recall': 0.8756394640682095, 'eval_f1': 0.844770857814336, 'eval_accuracy': 0.9232950815367243, 'eval_runtime': 0.7887, 'eval_samples_per_second': 101.435, 'eval_steps_per_second': 3.804, 'epoch': 99.0}\n"
     ]
    },
    {
     "name": "stderr",
     "output_type": "stream",
     "text": [
      "100%|██████████| 1000/1000 [13:09<00:00,  1.41it/s]"
     ]
    },
    {
     "name": "stdout",
     "output_type": "stream",
     "text": [
      "{'loss': 0.1388, 'learning_rate': 0.0, 'epoch': 100.0}\n"
     ]
    },
    {
     "name": "stderr",
     "output_type": "stream",
     "text": [
      "                                                   \n",
      "100%|██████████| 1000/1000 [13:13<00:00,  1.26it/s]\n"
     ]
    },
    {
     "name": "stdout",
     "output_type": "stream",
     "text": [
      "{'eval_loss': 0.41415658593177795, 'eval_precision': 0.8161480808539632, 'eval_recall': 0.8753958587088916, 'eval_f1': 0.8447343676539726, 'eval_accuracy': 0.9232163020929072, 'eval_runtime': 1.0405, 'eval_samples_per_second': 76.888, 'eval_steps_per_second': 2.883, 'epoch': 100.0}\n",
      "{'train_runtime': 793.0998, 'train_samples_per_second': 40.348, 'train_steps_per_second': 1.261, 'train_loss': 0.46105414581298826, 'epoch': 100.0}\n"
     ]
    },
    {
     "data": {
      "text/plain": [
       "('tokenizer\\\\tokenizer_config.json',\n",
       " 'tokenizer\\\\special_tokens_map.json',\n",
       " 'tokenizer\\\\vocab.txt',\n",
       " 'tokenizer\\\\added_tokens.json',\n",
       " 'tokenizer\\\\tokenizer.json')"
      ]
     },
     "execution_count": 25,
     "metadata": {},
     "output_type": "execute_result"
    }
   ],
   "source": [
    "trainer.train()\n",
    "\n",
    "model.save_pretrained('ner_model')\n",
    "\n",
    "tokenizer.save_pretrained('tokenizer')"
   ]
  },
  {
   "cell_type": "code",
   "execution_count": 23,
   "metadata": {},
   "outputs": [],
   "source": [
    "import json\n",
    "\n",
    "config = json.load(open('ner_model/config.json'))"
   ]
  },
  {
   "cell_type": "code",
   "execution_count": 24,
   "metadata": {},
   "outputs": [],
   "source": [
    "config['id2label'] = idx_to_label\n",
    "config['label2id'] = label_to_idx\n",
    "\n",
    "json.dump(config, open('ner_model/config.json', 'w'))\n",
    "\n",
    "model_fine_tuned = AutoModelForTokenClassification.from_pretrained('ner_model')"
   ]
  },
  {
   "cell_type": "code",
   "execution_count": 25,
   "metadata": {},
   "outputs": [],
   "source": [
    "from transformers import pipeline"
   ]
  },
  {
   "cell_type": "code",
   "execution_count": 51,
   "metadata": {},
   "outputs": [
    {
     "name": "stdout",
     "output_type": "stream",
     "text": [
      "63__________________ B-Age_____________________________________________(0.971399188041687) \n",
      "-___________________ I-Age_____________________________________________(0.9865236878395081) \n",
      "year________________ I-Age_____________________________________________(0.9873430728912354) \n",
      "-___________________ I-Age_____________________________________________(0.9868648648262024) \n",
      "old_________________ I-Age_____________________________________________(0.9863035082817078) \n",
      "woman_______________ B-Sex_____________________________________________(0.9628715515136719) \n",
      "no__________________ B-History_________________________________________(0.7787923216819763) \n",
      "known_______________ I-History_________________________________________(0.9577584862709045) \n",
      "cardiac_____________ I-History_________________________________________(0.9156008958816528) \n",
      "history_____________ I-History_________________________________________(0.9439647793769836) \n",
      "d___________________ B-Sign_symptom____________________________________(0.9906733632087708) \n",
      "##ys________________ B-Sign_symptom____________________________________(0.9894658327102661) \n",
      "##p_________________ B-Sign_symptom____________________________________(0.990643322467804) \n",
      "##nea_______________ B-Sign_symptom____________________________________(0.9893367290496826) \n",
      "int_________________ B-Therapeutic_procedure___________________________(0.9422385096549988) \n",
      "##uba_______________ B-Therapeutic_procedure___________________________(0.9271727204322815) \n",
      "##tion______________ B-Therapeutic_procedure___________________________(0.8884240388870239) \n",
      "vent________________ B-Therapeutic_procedure___________________________(0.9117929339408875) \n",
      "##ila_______________ B-Therapeutic_procedure___________________________(0.9375414252281189) \n",
      "##tory______________ B-Therapeutic_procedure___________________________(0.938062846660614) \n",
      "support_____________ I-Therapeutic_procedure___________________________(0.651901364326477) \n",
      "of__________________ I-Nonbiological_location__________________________(0.3607505261898041) \n",
      "hospital____________ I-Nonbiological_location__________________________(0.475755900144577) \n",
      "discomfort__________ B-Sign_symptom____________________________________(0.9796338677406311) \n",
      "pal_________________ B-Sign_symptom____________________________________(0.986890435218811) \n",
      "##pit_______________ B-Sign_symptom____________________________________(0.9885481595993042) \n",
      "##ations____________ B-Sign_symptom____________________________________(0.987981379032135) \n",
      "sync________________ B-Sign_symptom____________________________________(0.9845510125160217) \n",
      "##ope_______________ B-Sign_symptom____________________________________(0.9834972620010376) \n",
      "infection___________ B-Sign_symptom____________________________________(0.9876735806465149) \n",
      "af__________________ B-Sign_symptom____________________________________(0.9861105680465698) \n",
      "##eb________________ B-Sign_symptom____________________________________(0.9792880415916443) \n",
      "##ril_______________ B-Sign_symptom____________________________________(0.9799361228942871) \n",
      "##e_________________ B-Sign_symptom____________________________________(0.9829511046409607) \n",
      "norm________________ B-Sign_symptom____________________________________(0.9891524314880371) \n",
      "##ote_______________ B-Sign_symptom____________________________________(0.9910041093826294) \n",
      "##ns________________ B-Sign_symptom____________________________________(0.9838405251502991) \n",
      "##ive_______________ B-Sign_symptom____________________________________(0.9851478934288025) \n",
      "sin_________________ B-Sign_symptom____________________________________(0.5215683579444885) \n",
      "ta__________________ B-Sign_symptom____________________________________(0.989522397518158) \n",
      "##chy_______________ B-Sign_symptom____________________________________(0.9893006682395935) \n",
      "##card______________ B-Sign_symptom____________________________________(0.9860014915466309) \n",
      "##ia________________ B-Sign_symptom____________________________________(0.9854071140289307) \n",
      "140_________________ B-Lab_value_______________________________________(0.8922424912452698) \n",
      "beats_______________ I-Lab_value_______________________________________(0.9521280527114868) \n",
      "/___________________ I-Lab_value_______________________________________(0.9558753371238708) \n",
      "min_________________ I-Lab_value_______________________________________(0.9397453665733337) \n"
     ]
    }
   ],
   "source": [
    "nlp = pipeline(\"ner\", model=model_fine_tuned, tokenizer=tokenizer)\n",
    "\n",
    "example = \"A 63-year-old woman with no known cardiac history presented with a sudden onset of dyspnea requiring intubation and ventilatory support out of hospital. She denied preceding symptoms of chest discomfort, palpitations, syncope or infection. The patient was afebrile and normotensive, with a sinus tachycardia of 140 beats/min.\"\n",
    "\n",
    "ner_results = nlp(example)\n",
    "\n",
    "for entry in ner_results:\n",
    "    print(f\"{entry['word']:_<20} {entry['entity']:_<50}({entry['score']}) \")"
   ]
  }
 ],
 "metadata": {
  "kernelspec": {
   "display_name": "Python 3",
   "language": "python",
   "name": "python3"
  },
  "language_info": {
   "codemirror_mode": {
    "name": "ipython",
    "version": 3
   },
   "file_extension": ".py",
   "mimetype": "text/x-python",
   "name": "python",
   "nbconvert_exporter": "python",
   "pygments_lexer": "ipython3",
   "version": "3.11.1"
  }
 },
 "nbformat": 4,
 "nbformat_minor": 2
}
