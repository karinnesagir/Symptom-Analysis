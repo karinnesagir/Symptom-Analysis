{
 "cells": [
  {
   "cell_type": "code",
   "execution_count": 1,
   "metadata": {},
   "outputs": [
    {
     "name": "stderr",
     "output_type": "stream",
     "text": [
      "c:\\Users\\kevin\\AppData\\Local\\Programs\\Python\\Python312\\Lib\\site-packages\\tqdm\\auto.py:21: TqdmWarning: IProgress not found. Please update jupyter and ipywidgets. See https://ipywidgets.readthedocs.io/en/stable/user_install.html\n",
      "  from .autonotebook import tqdm as notebook_tqdm\n"
     ]
    }
   ],
   "source": [
    "import datasets\n",
    "import numpy as np\n",
    "from transformers import BertTokenizerFast, DataCollatorForTokenClassification, AutoModelForTokenClassification"
   ]
  },
  {
   "cell_type": "code",
   "execution_count": 2,
   "metadata": {},
   "outputs": [
    {
     "data": {
      "text/plain": [
       "DatasetDict({\n",
       "    train: Dataset({\n",
       "        features: ['tokens', 'tags'],\n",
       "        num_rows: 280\n",
       "    })\n",
       "    validation: Dataset({\n",
       "        features: ['tokens', 'tags'],\n",
       "        num_rows: 60\n",
       "    })\n",
       "    test: Dataset({\n",
       "        features: ['tokens', 'tags'],\n",
       "        num_rows: 60\n",
       "    })\n",
       "})"
      ]
     },
     "execution_count": 2,
     "metadata": {},
     "output_type": "execute_result"
    }
   ],
   "source": [
    "dataset = datasets.load_dataset(\"ktgiahieu/maccrobat2018_2020\")\n",
    "dataset = dataset['train'].train_test_split(test_size=0.3)\n",
    "test_validation = dataset.pop('test')\n",
    "test_validation = test_validation.train_test_split(test_size=0.5)\n",
    "valid = test_validation.pop('train')\n",
    "test = test_validation.pop('test')\n",
    "dataset['validation'] = valid\n",
    "dataset['test'] = test\n",
    "dataset"
   ]
  },
  {
   "cell_type": "code",
   "execution_count": 3,
   "metadata": {},
   "outputs": [],
   "source": [
    "label_list = []\n",
    "\n",
    "with open('./label_list.txt', 'r') as f:\n",
    "    for line in f:\n",
    "        parts = line.split(':')\n",
    "        label = parts[1].strip()\n",
    "        \n",
    "        label_list.append(label)"
   ]
  },
  {
   "cell_type": "code",
   "execution_count": 4,
   "metadata": {},
   "outputs": [],
   "source": [
    "tokenizer = BertTokenizerFast.from_pretrained('bert-base-uncased')"
   ]
  },
  {
   "cell_type": "code",
   "execution_count": 5,
   "metadata": {},
   "outputs": [],
   "source": [
    "idx_to_label = {i: label for i, label in enumerate(label_list)}\n",
    "label_to_idx = {label: i for i, label in enumerate(label_list)}"
   ]
  },
  {
   "cell_type": "code",
   "execution_count": 6,
   "metadata": {},
   "outputs": [],
   "source": [
    "def tags_to_indices(example):\n",
    "    example['tags'] = [label_to_idx[tag] for tag in example['tags']]\n",
    "    return example"
   ]
  },
  {
   "cell_type": "code",
   "execution_count": 7,
   "metadata": {},
   "outputs": [],
   "source": [
    "def indices_to_tags(example):\n",
    "    example['tags'] = [idx_to_label[idx] for idx in example['tags']]\n",
    "    return example"
   ]
  },
  {
   "cell_type": "code",
   "execution_count": 8,
   "metadata": {},
   "outputs": [
    {
     "name": "stderr",
     "output_type": "stream",
     "text": [
      "Map: 100%|██████████| 280/280 [00:00<00:00, 2228.65 examples/s]\n",
      "Map: 100%|██████████| 60/60 [00:00<00:00, 1903.60 examples/s]\n",
      "Map: 100%|██████████| 60/60 [00:00<00:00, 1732.61 examples/s]\n"
     ]
    }
   ],
   "source": [
    "dataset = dataset.map(lambda x: tags_to_indices(x))"
   ]
  },
  {
   "cell_type": "code",
   "execution_count": 9,
   "metadata": {},
   "outputs": [],
   "source": [
    "def tokenize_and_align_labels(example, label_all_tokens=True):\n",
    "    tokenized_input = tokenizer(example[\"tokens\"], truncation=True, is_split_into_words=True)\n",
    "    labels = []\n",
    "\n",
    "    for i, label in enumerate(example['tags']):\n",
    "        word_ids = tokenized_input.word_ids(batch_index=i)\n",
    "        # word_ids() => Return a list mapping the tokens\n",
    "        # to their actual word in the initial sentence.\n",
    "        # It returns a list indicating the word corresponding to each token.\n",
    "        previous_word_idx = None\n",
    "        \n",
    "        label_ids = []\n",
    "        for word_idx in word_ids:\n",
    "            if word_idx is None:\n",
    "                label_ids.append(-100)\n",
    "            elif word_idx != previous_word_idx:\n",
    "                label_ids.append(label[word_idx])\n",
    "            else:\n",
    "                label_ids.append(label[word_idx] if label_all_tokens else -100)\n",
    "            previous_word_idx = word_idx\n",
    "        labels.append(label_ids)\n",
    "    \n",
    "    tokenized_input[\"labels\"] = labels\n",
    "    return tokenized_input"
   ]
  },
  {
   "cell_type": "code",
   "execution_count": 10,
   "metadata": {},
   "outputs": [
    {
     "data": {
      "text/plain": [
       "(388, 388)"
      ]
     },
     "execution_count": 10,
     "metadata": {},
     "output_type": "execute_result"
    }
   ],
   "source": [
    "q = tokenize_and_align_labels(dataset['train'][0:1])\n",
    "len(q['input_ids'][0]), len(q['labels'][0])"
   ]
  },
  {
   "cell_type": "code",
   "execution_count": 11,
   "metadata": {},
   "outputs": [
    {
     "name": "stderr",
     "output_type": "stream",
     "text": [
      "Map: 100%|██████████| 280/280 [00:00<00:00, 816.23 examples/s]\n",
      "Map: 100%|██████████| 60/60 [00:00<00:00, 693.65 examples/s]\n",
      "Map: 100%|██████████| 60/60 [00:00<00:00, 692.82 examples/s]\n"
     ]
    }
   ],
   "source": [
    "tokenized_dataset = dataset.map(tokenize_and_align_labels, batched=True)"
   ]
  },
  {
   "cell_type": "code",
   "execution_count": 12,
   "metadata": {},
   "outputs": [
    {
     "name": "stderr",
     "output_type": "stream",
     "text": [
      "Some weights of BertForTokenClassification were not initialized from the model checkpoint at bert-base-uncased and are newly initialized: ['classifier.bias', 'classifier.weight']\n",
      "You should probably TRAIN this model on a down-stream task to be able to use it for predictions and inference.\n"
     ]
    }
   ],
   "source": [
    "model = AutoModelForTokenClassification.from_pretrained('bert-base-uncased', num_labels=len(label_list))"
   ]
  },
  {
   "cell_type": "code",
   "execution_count": 13,
   "metadata": {},
   "outputs": [],
   "source": [
    "from transformers import TrainingArguments, Trainer\n",
    "\n",
    "args = TrainingArguments(\n",
    "    'test-ner',\n",
    "    evaluation_strategy='epoch',\n",
    "    learning_rate=2e-5,\n",
    "    per_device_train_batch_size=32,\n",
    "    per_device_eval_batch_size=32,\n",
    "    num_train_epochs=100,\n",
    "    weight_decay=0.01,\n",
    ")"
   ]
  },
  {
   "cell_type": "code",
   "execution_count": 14,
   "metadata": {},
   "outputs": [
    {
     "name": "stderr",
     "output_type": "stream",
     "text": [
      "C:\\Users\\kevin\\AppData\\Local\\Temp\\ipykernel_2736\\520486469.py:1: FutureWarning: load_metric is deprecated and will be removed in the next major version of datasets. Use 'evaluate.load' instead, from the new library 🤗 Evaluate: https://huggingface.co/docs/evaluate\n",
      "  metric = datasets.load_metric('seqeval')\n",
      "c:\\Users\\kevin\\AppData\\Local\\Programs\\Python\\Python312\\Lib\\site-packages\\datasets\\load.py:756: FutureWarning: The repository for seqeval contains custom code which must be executed to correctly load the metric. You can inspect the repository content at https://raw.githubusercontent.com/huggingface/datasets/2.18.0/metrics/seqeval/seqeval.py\n",
      "You can avoid this message in future by passing the argument `trust_remote_code=True`.\n",
      "Passing `trust_remote_code=True` will be mandatory to load this metric from the next major release of `datasets`.\n",
      "  warnings.warn(\n",
      "Downloading builder script: 6.33kB [00:00, 6.29MB/s]                   \n"
     ]
    }
   ],
   "source": [
    "metric = datasets.load_metric('seqeval')"
   ]
  },
  {
   "cell_type": "code",
   "execution_count": 15,
   "metadata": {},
   "outputs": [],
   "source": [
    "data_collator = DataCollatorForTokenClassification(tokenizer)"
   ]
  },
  {
   "cell_type": "code",
   "execution_count": 16,
   "metadata": {},
   "outputs": [],
   "source": [
    "import numpy as np\n",
    "from seqeval.metrics import precision_score, recall_score, f1_score, accuracy_score\n",
    "\n",
    "def compute_metrics(p):\n",
    "    logits, label_ids = p\n",
    "    predictions = np.argmax(logits, axis=2)\n",
    "\n",
    "    # Flatten the batches and remove the special tokens\n",
    "    true_predictions = [\n",
    "        label_list[p] for batch_preds, batch_labels in zip(predictions, label_ids) \n",
    "        for p, l in zip(batch_preds, batch_labels) if l != -100\n",
    "    ]\n",
    "\n",
    "    true_labels = [\n",
    "        label_list[l] for batch_labels in label_ids\n",
    "        for l in batch_labels if l != -100\n",
    "    ]\n",
    "\n",
    "    # Calculate metrics\n",
    "    precision = precision_score([true_labels], [true_predictions])\n",
    "    recall = recall_score([true_labels], [true_predictions])\n",
    "    f1 = f1_score([true_labels], [true_predictions])\n",
    "    accuracy = accuracy_score([true_labels], [true_predictions])\n",
    "\n",
    "    return {\n",
    "        'precision': precision,\n",
    "        'recall': recall,\n",
    "        'f1': f1,\n",
    "        'accuracy': accuracy\n",
    "    }\n"
   ]
  },
  {
   "cell_type": "code",
   "execution_count": 17,
   "metadata": {},
   "outputs": [
    {
     "name": "stderr",
     "output_type": "stream",
     "text": [
      "c:\\Users\\kevin\\AppData\\Local\\Programs\\Python\\Python312\\Lib\\site-packages\\accelerate\\accelerator.py:436: FutureWarning: Passing the following arguments to `Accelerator` is deprecated and will be removed in version 1.0 of Accelerate: dict_keys(['dispatch_batches', 'split_batches', 'even_batches', 'use_seedable_sampler']). Please pass an `accelerate.DataLoaderConfiguration` instead: \n",
      "dataloader_config = DataLoaderConfiguration(dispatch_batches=None, split_batches=False, even_batches=True, use_seedable_sampler=True)\n",
      "  warnings.warn(\n"
     ]
    }
   ],
   "source": [
    "trainer = Trainer(\n",
    "    model,\n",
    "    args,\n",
    "    train_dataset=tokenized_dataset[\"train\"],\n",
    "    eval_dataset=tokenized_dataset[\"validation\"],\n",
    "    data_collator=data_collator,\n",
    "    tokenizer=tokenizer,\n",
    "    compute_metrics=compute_metrics\n",
    ")"
   ]
  },
  {
   "cell_type": "code",
   "execution_count": 18,
   "metadata": {},
   "outputs": [
    {
     "name": "stderr",
     "output_type": "stream",
     "text": [
      "  1%|          | 9/900 [00:07<10:44,  1.38it/s]c:\\Users\\kevin\\AppData\\Local\\Programs\\Python\\Python312\\Lib\\site-packages\\seqeval\\metrics\\v1.py:57: UndefinedMetricWarning: Precision is ill-defined and being set to 0.0 due to no predicted samples. Use `zero_division` parameter to control this behavior.\n",
      "  _warn_prf(average, modifier, msg_start, len(result))\n",
      "                                               \n",
      "  1%|          | 9/900 [00:08<10:44,  1.38it/s]"
     ]
    },
    {
     "name": "stdout",
     "output_type": "stream",
     "text": [
      "{'eval_loss': 2.286665678024292, 'eval_precision': 0.0, 'eval_recall': 0.0, 'eval_f1': 0.0, 'eval_accuracy': 0.6304816179025644, 'eval_runtime': 0.625, 'eval_samples_per_second': 95.993, 'eval_steps_per_second': 3.2, 'epoch': 1.0}\n"
     ]
    },
    {
     "name": "stderr",
     "output_type": "stream",
     "text": [
      "                                                \n",
      "  2%|▏         | 18/900 [00:15<10:28,  1.40it/s]"
     ]
    },
    {
     "name": "stdout",
     "output_type": "stream",
     "text": [
      "{'eval_loss': 2.0101654529571533, 'eval_precision': 0.0, 'eval_recall': 0.0, 'eval_f1': 0.0, 'eval_accuracy': 0.6304816179025644, 'eval_runtime': 0.6238, 'eval_samples_per_second': 96.19, 'eval_steps_per_second': 3.206, 'epoch': 2.0}\n"
     ]
    },
    {
     "name": "stderr",
     "output_type": "stream",
     "text": [
      "                                                \n",
      "  3%|▎         | 27/900 [00:22<10:25,  1.40it/s]"
     ]
    },
    {
     "name": "stdout",
     "output_type": "stream",
     "text": [
      "{'eval_loss': 1.8831863403320312, 'eval_precision': 0.0, 'eval_recall': 0.0, 'eval_f1': 0.0, 'eval_accuracy': 0.6304816179025644, 'eval_runtime': 0.6159, 'eval_samples_per_second': 97.415, 'eval_steps_per_second': 3.247, 'epoch': 3.0}\n"
     ]
    },
    {
     "name": "stderr",
     "output_type": "stream",
     "text": [
      "                                                \n",
      "  4%|▍         | 36/900 [00:30<10:21,  1.39it/s]"
     ]
    },
    {
     "name": "stdout",
     "output_type": "stream",
     "text": [
      "{'eval_loss': 1.7668567895889282, 'eval_precision': 0.0, 'eval_recall': 0.0, 'eval_f1': 0.0, 'eval_accuracy': 0.6304816179025644, 'eval_runtime': 0.6193, 'eval_samples_per_second': 96.877, 'eval_steps_per_second': 3.229, 'epoch': 4.0}\n"
     ]
    },
    {
     "name": "stderr",
     "output_type": "stream",
     "text": [
      "                                                \n",
      "  5%|▌         | 45/900 [00:37<10:16,  1.39it/s]"
     ]
    },
    {
     "name": "stdout",
     "output_type": "stream",
     "text": [
      "{'eval_loss': 1.7002743482589722, 'eval_precision': 0.0, 'eval_recall': 0.0, 'eval_f1': 0.0, 'eval_accuracy': 0.6304816179025644, 'eval_runtime': 0.6289, 'eval_samples_per_second': 95.405, 'eval_steps_per_second': 3.18, 'epoch': 5.0}\n"
     ]
    },
    {
     "name": "stderr",
     "output_type": "stream",
     "text": [
      "                                                \n",
      "  6%|▌         | 54/900 [00:44<10:10,  1.39it/s]"
     ]
    },
    {
     "name": "stdout",
     "output_type": "stream",
     "text": [
      "{'eval_loss': 1.5912164449691772, 'eval_precision': 0.4823529411764706, 'eval_recall': 0.006707017830852282, 'eval_f1': 0.013230074217489512, 'eval_accuracy': 0.6380221002154424, 'eval_runtime': 0.6299, 'eval_samples_per_second': 95.254, 'eval_steps_per_second': 3.175, 'epoch': 6.0}\n"
     ]
    },
    {
     "name": "stderr",
     "output_type": "stream",
     "text": [
      "                                                \n",
      "  7%|▋         | 63/900 [00:52<10:04,  1.39it/s]"
     ]
    },
    {
     "name": "stdout",
     "output_type": "stream",
     "text": [
      "{'eval_loss': 1.5207725763320923, 'eval_precision': 0.27522935779816515, 'eval_recall': 0.03926059218059873, 'eval_f1': 0.06871868289191124, 'eval_accuracy': 0.6442073806379873, 'eval_runtime': 0.639, 'eval_samples_per_second': 93.898, 'eval_steps_per_second': 3.13, 'epoch': 7.0}\n"
     ]
    },
    {
     "name": "stderr",
     "output_type": "stream",
     "text": [
      "                                                \n",
      "  8%|▊         | 72/900 [00:59<10:07,  1.36it/s]"
     ]
    },
    {
     "name": "stdout",
     "output_type": "stream",
     "text": [
      "{'eval_loss': 1.4556418657302856, 'eval_precision': 0.28151120026746906, 'eval_recall': 0.1377392442336005, 'eval_f1': 0.18497363796133567, 'eval_accuracy': 0.6524428382792411, 'eval_runtime': 0.6414, 'eval_samples_per_second': 93.54, 'eval_steps_per_second': 3.118, 'epoch': 8.0}\n"
     ]
    },
    {
     "name": "stderr",
     "output_type": "stream",
     "text": [
      "                                                \n",
      "  9%|▉         | 81/900 [01:07<10:00,  1.36it/s]"
     ]
    },
    {
     "name": "stdout",
     "output_type": "stream",
     "text": [
      "{'eval_loss': 1.3910472393035889, 'eval_precision': 0.34381898454746135, 'eval_recall': 0.10191395386880418, 'eval_f1': 0.15722397476340694, 'eval_accuracy': 0.657307665577872, 'eval_runtime': 0.6306, 'eval_samples_per_second': 95.147, 'eval_steps_per_second': 3.172, 'epoch': 9.0}\n"
     ]
    },
    {
     "name": "stderr",
     "output_type": "stream",
     "text": [
      "                                                \n",
      " 10%|█         | 90/900 [01:14<09:49,  1.37it/s]"
     ]
    },
    {
     "name": "stdout",
     "output_type": "stream",
     "text": [
      "{'eval_loss': 1.3313978910446167, 'eval_precision': 0.3692515779981966, 'eval_recall': 0.13397677081629314, 'eval_f1': 0.19661505221462008, 'eval_accuracy': 0.6650566404892626, 'eval_runtime': 0.6316, 'eval_samples_per_second': 94.991, 'eval_steps_per_second': 3.166, 'epoch': 10.0}\n"
     ]
    },
    {
     "name": "stderr",
     "output_type": "stream",
     "text": [
      "                                                \n",
      " 11%|█         | 99/900 [01:22<09:41,  1.38it/s]"
     ]
    },
    {
     "name": "stdout",
     "output_type": "stream",
     "text": [
      "{'eval_loss': 1.269331455230713, 'eval_precision': 0.36803185437997726, 'eval_recall': 0.2116800261737281, 'eval_f1': 0.2687714196697476, 'eval_accuracy': 0.6815275557717702, 'eval_runtime': 0.634, 'eval_samples_per_second': 94.633, 'eval_steps_per_second': 3.154, 'epoch': 11.0}\n"
     ]
    },
    {
     "name": "stderr",
     "output_type": "stream",
     "text": [
      "                                                 \n",
      " 12%|█▏        | 108/900 [01:29<09:37,  1.37it/s]"
     ]
    },
    {
     "name": "stdout",
     "output_type": "stream",
     "text": [
      "{'eval_loss': 1.2090703248977661, 'eval_precision': 0.3920656028368794, 'eval_recall': 0.2893832815311631, 'eval_f1': 0.33298823529411764, 'eval_accuracy': 0.6968170129960386, 'eval_runtime': 0.6494, 'eval_samples_per_second': 92.399, 'eval_steps_per_second': 3.08, 'epoch': 12.0}\n"
     ]
    },
    {
     "name": "stderr",
     "output_type": "stream",
     "text": [
      "                                                 \n",
      " 13%|█▎        | 117/900 [01:37<09:31,  1.37it/s]"
     ]
    },
    {
     "name": "stdout",
     "output_type": "stream",
     "text": [
      "{'eval_loss': 1.1748193502426147, 'eval_precision': 0.3609000584453536, 'eval_recall': 0.4040569278586619, 'eval_f1': 0.3812610943891333, 'eval_accuracy': 0.7022030717909514, 'eval_runtime': 0.6465, 'eval_samples_per_second': 92.807, 'eval_steps_per_second': 3.094, 'epoch': 13.0}\n"
     ]
    },
    {
     "name": "stderr",
     "output_type": "stream",
     "text": [
      "                                                 \n",
      " 14%|█▍        | 126/900 [01:44<09:27,  1.36it/s]"
     ]
    },
    {
     "name": "stdout",
     "output_type": "stream",
     "text": [
      "{'eval_loss': 1.1324256658554077, 'eval_precision': 0.37032156035846076, 'eval_recall': 0.45967610011451004, 'eval_f1': 0.4101890372965477, 'eval_accuracy': 0.7125234554173326, 'eval_runtime': 0.6592, 'eval_samples_per_second': 91.018, 'eval_steps_per_second': 3.034, 'epoch': 14.0}\n"
     ]
    },
    {
     "name": "stderr",
     "output_type": "stream",
     "text": [
      "                                                 \n",
      " 15%|█▌        | 135/900 [01:52<09:50,  1.30it/s]"
     ]
    },
    {
     "name": "stdout",
     "output_type": "stream",
     "text": [
      "{'eval_loss': 1.0628376007080078, 'eval_precision': 0.41572862792820203, 'eval_recall': 0.44707999345656796, 'eval_f1': 0.4308347126980374, 'eval_accuracy': 0.7312877892834805, 'eval_runtime': 0.6881, 'eval_samples_per_second': 87.201, 'eval_steps_per_second': 2.907, 'epoch': 15.0}\n"
     ]
    },
    {
     "name": "stderr",
     "output_type": "stream",
     "text": [
      "                                                 \n",
      " 16%|█▌        | 144/900 [02:00<09:41,  1.30it/s]"
     ]
    },
    {
     "name": "stdout",
     "output_type": "stream",
     "text": [
      "{'eval_loss': 1.0184186697006226, 'eval_precision': 0.4841209829867675, 'eval_recall': 0.4189432357271389, 'eval_f1': 0.4491800403402613, 'eval_accuracy': 0.7454652859823476, 'eval_runtime': 0.684, 'eval_samples_per_second': 87.72, 'eval_steps_per_second': 2.924, 'epoch': 16.0}\n"
     ]
    },
    {
     "name": "stderr",
     "output_type": "stream",
     "text": [
      "                                                 \n",
      " 17%|█▋        | 153/900 [02:08<09:32,  1.30it/s]"
     ]
    },
    {
     "name": "stdout",
     "output_type": "stream",
     "text": [
      "{'eval_loss': 1.0001882314682007, 'eval_precision': 0.43397837222538416, 'eval_recall': 0.4989366922951088, 'eval_f1': 0.46419602769956625, 'eval_accuracy': 0.7469594829383557, 'eval_runtime': 0.6565, 'eval_samples_per_second': 91.394, 'eval_steps_per_second': 3.046, 'epoch': 17.0}\n"
     ]
    },
    {
     "name": "stderr",
     "output_type": "stream",
     "text": [
      "                                                 \n",
      " 18%|█▊        | 162/900 [02:16<09:23,  1.31it/s]"
     ]
    },
    {
     "name": "stdout",
     "output_type": "stream",
     "text": [
      "{'eval_loss': 0.9511271119117737, 'eval_precision': 0.47953944297494944, 'eval_recall': 0.5041714379191886, 'eval_f1': 0.4915470494417863, 'eval_accuracy': 0.7601640141774967, 'eval_runtime': 0.6714, 'eval_samples_per_second': 89.37, 'eval_steps_per_second': 2.979, 'epoch': 18.0}\n"
     ]
    },
    {
     "name": "stderr",
     "output_type": "stream",
     "text": [
      "                                                 \n",
      " 19%|█▉        | 171/900 [02:23<09:14,  1.31it/s]"
     ]
    },
    {
     "name": "stdout",
     "output_type": "stream",
     "text": [
      "{'eval_loss': 0.9293423891067505, 'eval_precision': 0.45953797205699265, 'eval_recall': 0.5434320300997874, 'eval_f1': 0.49797631539499326, 'eval_accuracy': 0.7621794426297867, 'eval_runtime': 0.6688, 'eval_samples_per_second': 89.716, 'eval_steps_per_second': 2.991, 'epoch': 19.0}\n"
     ]
    },
    {
     "name": "stderr",
     "output_type": "stream",
     "text": [
      "                                                 \n",
      " 20%|██        | 180/900 [02:31<08:54,  1.35it/s]"
     ]
    },
    {
     "name": "stdout",
     "output_type": "stream",
     "text": [
      "{'eval_loss': 0.8858649730682373, 'eval_precision': 0.5395281829641635, 'eval_recall': 0.49010305905447404, 'eval_f1': 0.5136293502485856, 'eval_accuracy': 0.7754534714017652, 'eval_runtime': 0.6475, 'eval_samples_per_second': 92.67, 'eval_steps_per_second': 3.089, 'epoch': 20.0}\n"
     ]
    },
    {
     "name": "stderr",
     "output_type": "stream",
     "text": [
      "                                                 \n",
      " 21%|██        | 189/900 [02:38<08:28,  1.40it/s]"
     ]
    },
    {
     "name": "stdout",
     "output_type": "stream",
     "text": [
      "{'eval_loss': 0.8877634406089783, 'eval_precision': 0.47095115681233934, 'eval_recall': 0.5993783739571406, 'eval_f1': 0.5274598718779241, 'eval_accuracy': 0.76899020084787, 'eval_runtime': 0.6531, 'eval_samples_per_second': 91.868, 'eval_steps_per_second': 3.062, 'epoch': 21.0}\n"
     ]
    },
    {
     "name": "stderr",
     "output_type": "stream",
     "text": [
      "                                                 \n",
      " 22%|██▏       | 198/900 [02:46<08:29,  1.38it/s]"
     ]
    },
    {
     "name": "stdout",
     "output_type": "stream",
     "text": [
      "{'eval_loss': 0.8258309960365295, 'eval_precision': 0.5673207036535859, 'eval_recall': 0.5486667757238671, 'eval_f1': 0.5578378378378378, 'eval_accuracy': 0.7921328792827854, 'eval_runtime': 0.6577, 'eval_samples_per_second': 91.222, 'eval_steps_per_second': 3.041, 'epoch': 22.0}\n"
     ]
    },
    {
     "name": "stderr",
     "output_type": "stream",
     "text": [
      "                                                 \n",
      " 23%|██▎       | 207/900 [02:53<08:23,  1.38it/s]"
     ]
    },
    {
     "name": "stdout",
     "output_type": "stream",
     "text": [
      "{'eval_loss': 0.8245580792427063, 'eval_precision': 0.5089273905568047, 'eval_recall': 0.6294781612955995, 'eval_f1': 0.5628199502705865, 'eval_accuracy': 0.7870943081520606, 'eval_runtime': 0.6248, 'eval_samples_per_second': 96.031, 'eval_steps_per_second': 3.201, 'epoch': 23.0}\n"
     ]
    },
    {
     "name": "stderr",
     "output_type": "stream",
     "text": [
      "                                                 \n",
      " 24%|██▍       | 216/900 [03:01<08:27,  1.35it/s]"
     ]
    },
    {
     "name": "stdout",
     "output_type": "stream",
     "text": [
      "{'eval_loss': 0.7790563106536865, 'eval_precision': 0.581627719580983, 'eval_recall': 0.5903811549157533, 'eval_f1': 0.5859717486604968, 'eval_accuracy': 0.8033567308360553, 'eval_runtime': 0.6595, 'eval_samples_per_second': 90.979, 'eval_steps_per_second': 3.033, 'epoch': 24.0}\n"
     ]
    },
    {
     "name": "stderr",
     "output_type": "stream",
     "text": [
      "                                                 \n",
      " 25%|██▌       | 225/900 [03:08<08:32,  1.32it/s]"
     ]
    },
    {
     "name": "stdout",
     "output_type": "stream",
     "text": [
      "{'eval_loss': 0.7886726260185242, 'eval_precision': 0.5344266738953646, 'eval_recall': 0.6450188123670866, 'eval_f1': 0.5845378400415092, 'eval_accuracy': 0.7975884356105358, 'eval_runtime': 0.6309, 'eval_samples_per_second': 95.104, 'eval_steps_per_second': 3.17, 'epoch': 25.0}\n"
     ]
    },
    {
     "name": "stderr",
     "output_type": "stream",
     "text": [
      "                                                 \n",
      " 26%|██▌       | 234/900 [03:17<08:41,  1.28it/s]"
     ]
    },
    {
     "name": "stdout",
     "output_type": "stream",
     "text": [
      "{'eval_loss': 0.7350437641143799, 'eval_precision': 0.5800509210723379, 'eval_recall': 0.6335678063144119, 'eval_f1': 0.6056293979671619, 'eval_accuracy': 0.8137118632288554, 'eval_runtime': 0.6658, 'eval_samples_per_second': 90.122, 'eval_steps_per_second': 3.004, 'epoch': 26.0}\n"
     ]
    },
    {
     "name": "stderr",
     "output_type": "stream",
     "text": [
      "                                                 \n",
      " 27%|██▋       | 243/900 [03:24<08:17,  1.32it/s]"
     ]
    },
    {
     "name": "stdout",
     "output_type": "stream",
     "text": [
      "{'eval_loss': 0.7214308977127075, 'eval_precision': 0.5785611510791366, 'eval_recall': 0.6577785048257812, 'eval_f1': 0.6156319375334915, 'eval_accuracy': 0.8188199318924179, 'eval_runtime': 0.6353, 'eval_samples_per_second': 94.443, 'eval_steps_per_second': 3.148, 'epoch': 27.0}\n"
     ]
    },
    {
     "name": "stderr",
     "output_type": "stream",
     "text": [
      "                                                 \n",
      " 28%|██▊       | 252/900 [03:32<08:31,  1.27it/s]"
     ]
    },
    {
     "name": "stdout",
     "output_type": "stream",
     "text": [
      "{'eval_loss': 0.7018881440162659, 'eval_precision': 0.5788445436784817, 'eval_recall': 0.678553901521348, 'eval_f1': 0.6247458392951276, 'eval_accuracy': 0.8214260893738272, 'eval_runtime': 0.6639, 'eval_samples_per_second': 90.379, 'eval_steps_per_second': 3.013, 'epoch': 28.0}\n"
     ]
    },
    {
     "name": "stderr",
     "output_type": "stream",
     "text": [
      "                                                 \n",
      " 29%|██▉       | 261/900 [03:40<08:02,  1.32it/s]"
     ]
    },
    {
     "name": "stdout",
     "output_type": "stream",
     "text": [
      "{'eval_loss': 0.6666797995567322, 'eval_precision': 0.608283505906373, 'eval_recall': 0.6823163749386554, 'eval_f1': 0.6431765612952969, 'eval_accuracy': 0.8310862464382515, 'eval_runtime': 0.6576, 'eval_samples_per_second': 91.244, 'eval_steps_per_second': 3.041, 'epoch': 29.0}\n"
     ]
    },
    {
     "name": "stderr",
     "output_type": "stream",
     "text": [
      "                                                 \n",
      " 30%|███       | 270/900 [03:47<07:26,  1.41it/s]"
     ]
    },
    {
     "name": "stdout",
     "output_type": "stream",
     "text": [
      "{'eval_loss': 0.6423353552818298, 'eval_precision': 0.6216177108956735, 'eval_recall': 0.7027646000327171, 'eval_f1': 0.6597051597051597, 'eval_accuracy': 0.8384877336854542, 'eval_runtime': 0.6185, 'eval_samples_per_second': 97.008, 'eval_steps_per_second': 3.234, 'epoch': 30.0}\n"
     ]
    },
    {
     "name": "stderr",
     "output_type": "stream",
     "text": [
      "                                                 \n",
      " 31%|███       | 279/900 [03:55<07:44,  1.34it/s]"
     ]
    },
    {
     "name": "stdout",
     "output_type": "stream",
     "text": [
      "{'eval_loss': 0.6273120641708374, 'eval_precision': 0.6324848134220422, 'eval_recall': 0.7153607066906592, 'eval_f1': 0.671374836877255, 'eval_accuracy': 0.8432483146848286, 'eval_runtime': 0.6596, 'eval_samples_per_second': 90.97, 'eval_steps_per_second': 3.032, 'epoch': 31.0}\n"
     ]
    },
    {
     "name": "stderr",
     "output_type": "stream",
     "text": [
      "                                                 \n",
      " 32%|███▏      | 288/900 [04:02<07:16,  1.40it/s]"
     ]
    },
    {
     "name": "stdout",
     "output_type": "stream",
     "text": [
      "{'eval_loss': 0.5877891778945923, 'eval_precision': 0.6572874795295519, 'eval_recall': 0.7222313103222641, 'eval_f1': 0.6882307092751364, 'eval_accuracy': 0.8536034470776287, 'eval_runtime': 0.628, 'eval_samples_per_second': 95.549, 'eval_steps_per_second': 3.185, 'epoch': 32.0}\n"
     ]
    },
    {
     "name": "stderr",
     "output_type": "stream",
     "text": [
      "                                                 \n",
      " 33%|███▎      | 297/900 [04:10<07:22,  1.36it/s]"
     ]
    },
    {
     "name": "stdout",
     "output_type": "stream",
     "text": [
      "{'eval_loss': 0.5868443250656128, 'eval_precision': 0.6586232420429312, 'eval_recall': 0.7277932275478488, 'eval_f1': 0.6914827479017718, 'eval_accuracy': 0.8558621168948503, 'eval_runtime': 0.6722, 'eval_samples_per_second': 89.261, 'eval_steps_per_second': 2.975, 'epoch': 33.0}\n"
     ]
    },
    {
     "name": "stderr",
     "output_type": "stream",
     "text": [
      "                                                 \n",
      " 34%|███▍      | 306/900 [04:17<07:18,  1.35it/s]"
     ]
    },
    {
     "name": "stdout",
     "output_type": "stream",
     "text": [
      "{'eval_loss': 0.5627755522727966, 'eval_precision': 0.6729266826923077, 'eval_recall': 0.7327008015704237, 'eval_f1': 0.7015427989662464, 'eval_accuracy': 0.8622211411494892, 'eval_runtime': 0.6303, 'eval_samples_per_second': 95.187, 'eval_steps_per_second': 3.173, 'epoch': 34.0}\n"
     ]
    },
    {
     "name": "stderr",
     "output_type": "stream",
     "text": [
      "                                                 \n",
      " 35%|███▌      | 315/900 [04:25<06:57,  1.40it/s]"
     ]
    },
    {
     "name": "stdout",
     "output_type": "stream",
     "text": [
      "{'eval_loss': 0.5624191761016846, 'eval_precision': 0.6552992783359276, 'eval_recall': 0.7575658432848029, 'eval_f1': 0.7027314112291352, 'eval_accuracy': 0.8623253874487455, 'eval_runtime': 0.6242, 'eval_samples_per_second': 96.127, 'eval_steps_per_second': 3.204, 'epoch': 35.0}\n"
     ]
    },
    {
     "name": "stderr",
     "output_type": "stream",
     "text": [
      "                                                 \n",
      " 36%|███▌      | 324/900 [04:32<07:21,  1.30it/s]"
     ]
    },
    {
     "name": "stdout",
     "output_type": "stream",
     "text": [
      "{'eval_loss': 0.5244659185409546, 'eval_precision': 0.6964231585328887, 'eval_recall': 0.7516767544577131, 'eval_f1': 0.7229958303831326, 'eval_accuracy': 0.8738272291333657, 'eval_runtime': 0.637, 'eval_samples_per_second': 94.185, 'eval_steps_per_second': 3.14, 'epoch': 36.0}\n"
     ]
    },
    {
     "name": "stderr",
     "output_type": "stream",
     "text": [
      "                                                 \n",
      " 37%|███▋      | 333/900 [04:40<08:12,  1.15it/s]"
     ]
    },
    {
     "name": "stdout",
     "output_type": "stream",
     "text": [
      "{'eval_loss': 0.513841450214386, 'eval_precision': 0.6973900074571215, 'eval_recall': 0.7649272043186651, 'eval_f1': 0.7295990014042751, 'eval_accuracy': 0.8776495934394329, 'eval_runtime': 0.7318, 'eval_samples_per_second': 81.994, 'eval_steps_per_second': 2.733, 'epoch': 37.0}\n"
     ]
    },
    {
     "name": "stderr",
     "output_type": "stream",
     "text": [
      "                                                 \n",
      " 38%|███▊      | 342/900 [04:48<06:43,  1.38it/s]"
     ]
    },
    {
     "name": "stdout",
     "output_type": "stream",
     "text": [
      "{'eval_loss': 0.5076789855957031, 'eval_precision': 0.6996587030716723, 'eval_recall': 0.7713070505480124, 'eval_f1': 0.7337379396202924, 'eval_accuracy': 0.879977760789492, 'eval_runtime': 0.6366, 'eval_samples_per_second': 94.248, 'eval_steps_per_second': 3.142, 'epoch': 38.0}\n"
     ]
    },
    {
     "name": "stderr",
     "output_type": "stream",
     "text": [
      "                                                 \n",
      " 39%|███▉      | 351/900 [04:56<06:50,  1.34it/s]"
     ]
    },
    {
     "name": "stdout",
     "output_type": "stream",
     "text": [
      "{'eval_loss': 0.5236851572990417, 'eval_precision': 0.683432793407218, 'eval_recall': 0.7868477016194995, 'eval_f1': 0.7315033077332522, 'eval_accuracy': 0.8751824310236986, 'eval_runtime': 0.7602, 'eval_samples_per_second': 78.923, 'eval_steps_per_second': 2.631, 'epoch': 39.0}\n"
     ]
    },
    {
     "name": "stderr",
     "output_type": "stream",
     "text": [
      "                                                 \n",
      " 40%|████      | 360/900 [05:04<06:41,  1.34it/s]"
     ]
    },
    {
     "name": "stdout",
     "output_type": "stream",
     "text": [
      "{'eval_loss': 0.4821504056453705, 'eval_precision': 0.719681011134517, 'eval_recall': 0.7824308849991821, 'eval_f1': 0.7497452778430913, 'eval_accuracy': 0.8880742233650706, 'eval_runtime': 0.6364, 'eval_samples_per_second': 94.283, 'eval_steps_per_second': 3.143, 'epoch': 40.0}\n"
     ]
    },
    {
     "name": "stderr",
     "output_type": "stream",
     "text": [
      "                                                 \n",
      " 41%|████      | 369/900 [05:11<06:19,  1.40it/s]"
     ]
    },
    {
     "name": "stdout",
     "output_type": "stream",
     "text": [
      "{'eval_loss': 0.46669068932533264, 'eval_precision': 0.7311000452693527, 'eval_recall': 0.7925732046458367, 'eval_f1': 0.760596546310832, 'eval_accuracy': 0.8935645284592397, 'eval_runtime': 0.6282, 'eval_samples_per_second': 95.51, 'eval_steps_per_second': 3.184, 'epoch': 41.0}\n"
     ]
    },
    {
     "name": "stderr",
     "output_type": "stream",
     "text": [
      "                                                 \n",
      " 42%|████▏     | 378/900 [05:18<06:10,  1.41it/s]"
     ]
    },
    {
     "name": "stdout",
     "output_type": "stream",
     "text": [
      "{'eval_loss': 0.4849504828453064, 'eval_precision': 0.7072961373390558, 'eval_recall': 0.8087681989203337, 'eval_f1': 0.7546363428222546, 'eval_accuracy': 0.8891514351240531, 'eval_runtime': 0.6207, 'eval_samples_per_second': 96.659, 'eval_steps_per_second': 3.222, 'epoch': 42.0}\n"
     ]
    },
    {
     "name": "stderr",
     "output_type": "stream",
     "text": [
      "                                                 \n",
      " 43%|████▎     | 387/900 [05:26<06:04,  1.41it/s]"
     ]
    },
    {
     "name": "stdout",
     "output_type": "stream",
     "text": [
      "{'eval_loss': 0.44733601808547974, 'eval_precision': 0.7419112114371708, 'eval_recall': 0.8064779977097988, 'eval_f1': 0.7728484088415112, 'eval_accuracy': 0.9004100354437418, 'eval_runtime': 0.6239, 'eval_samples_per_second': 96.162, 'eval_steps_per_second': 3.205, 'epoch': 43.0}\n"
     ]
    },
    {
     "name": "stderr",
     "output_type": "stream",
     "text": [
      "                                                 \n",
      " 44%|████▍     | 396/900 [05:33<05:55,  1.42it/s]"
     ]
    },
    {
     "name": "stdout",
     "output_type": "stream",
     "text": [
      "{'eval_loss': 0.42553889751434326, 'eval_precision': 0.7694952336302547, 'eval_recall': 0.8054964829052839, 'eval_f1': 0.7870843989769821, 'eval_accuracy': 0.906560567099868, 'eval_runtime': 0.6251, 'eval_samples_per_second': 95.984, 'eval_steps_per_second': 3.199, 'epoch': 44.0}\n"
     ]
    },
    {
     "name": "stderr",
     "output_type": "stream",
     "text": [
      "                                                 \n",
      " 45%|████▌     | 405/900 [05:40<05:55,  1.39it/s]"
     ]
    },
    {
     "name": "stdout",
     "output_type": "stream",
     "text": [
      "{'eval_loss': 0.4351365864276886, 'eval_precision': 0.7452534011062939, 'eval_recall': 0.815475216751186, 'eval_f1': 0.7787845649117324, 'eval_accuracy': 0.9034331781221767, 'eval_runtime': 0.6316, 'eval_samples_per_second': 95.002, 'eval_steps_per_second': 3.167, 'epoch': 45.0}\n"
     ]
    },
    {
     "name": "stderr",
     "output_type": "stream",
     "text": [
      "                                                 \n",
      " 46%|████▌     | 414/900 [05:48<05:42,  1.42it/s]"
     ]
    },
    {
     "name": "stdout",
     "output_type": "stream",
     "text": [
      "{'eval_loss': 0.4143748879432678, 'eval_precision': 0.7901254422643937, 'eval_recall': 0.8036970390970064, 'eval_f1': 0.7968534587624686, 'eval_accuracy': 0.9112516505664049, 'eval_runtime': 0.6262, 'eval_samples_per_second': 95.811, 'eval_steps_per_second': 3.194, 'epoch': 46.0}\n"
     ]
    },
    {
     "name": "stderr",
     "output_type": "stream",
     "text": [
      "                                                 \n",
      " 47%|████▋     | 423/900 [05:55<05:35,  1.42it/s]"
     ]
    },
    {
     "name": "stdout",
     "output_type": "stream",
     "text": [
      "{'eval_loss': 0.4170611798763275, 'eval_precision': 0.7637505745365405, 'eval_recall': 0.815475216751186, 'eval_f1': 0.7887658227848101, 'eval_accuracy': 0.9080200152894572, 'eval_runtime': 0.6206, 'eval_samples_per_second': 96.675, 'eval_steps_per_second': 3.222, 'epoch': 47.0}\n"
     ]
    },
    {
     "name": "stderr",
     "output_type": "stream",
     "text": [
      "                                                 \n",
      " 48%|████▊     | 432/900 [06:02<05:29,  1.42it/s]"
     ]
    },
    {
     "name": "stdout",
     "output_type": "stream",
     "text": [
      "{'eval_loss': 0.4068208634853363, 'eval_precision': 0.7782601953791285, 'eval_recall': 0.8210371339767708, 'eval_f1': 0.7990765801623945, 'eval_accuracy': 0.912398359858225, 'eval_runtime': 0.6207, 'eval_samples_per_second': 96.666, 'eval_steps_per_second': 3.222, 'epoch': 48.0}\n"
     ]
    },
    {
     "name": "stderr",
     "output_type": "stream",
     "text": [
      "                                                 \n",
      " 49%|████▉     | 441/900 [06:09<05:22,  1.42it/s]"
     ]
    },
    {
     "name": "stdout",
     "output_type": "stream",
     "text": [
      "{'eval_loss': 0.40351706743240356, 'eval_precision': 0.770983030117719, 'eval_recall': 0.8249631931948307, 'eval_f1': 0.7970602181128497, 'eval_accuracy': 0.9119466258947807, 'eval_runtime': 0.6197, 'eval_samples_per_second': 96.827, 'eval_steps_per_second': 3.228, 'epoch': 49.0}\n"
     ]
    },
    {
     "name": "stderr",
     "output_type": "stream",
     "text": [
      "                                                 \n",
      " 50%|█████     | 450/900 [06:16<05:15,  1.42it/s]"
     ]
    },
    {
     "name": "stdout",
     "output_type": "stream",
     "text": [
      "{'eval_loss': 0.39010682702064514, 'eval_precision': 0.7884076036148333, 'eval_recall': 0.8277441518076231, 'eval_f1': 0.8075971590455668, 'eval_accuracy': 0.9171936896240184, 'eval_runtime': 0.6343, 'eval_samples_per_second': 94.592, 'eval_steps_per_second': 3.153, 'epoch': 50.0}\n"
     ]
    },
    {
     "name": "stderr",
     "output_type": "stream",
     "text": [
      "                                                 \n",
      " 51%|█████     | 459/900 [06:24<05:09,  1.43it/s]"
     ]
    },
    {
     "name": "stdout",
     "output_type": "stream",
     "text": [
      "{'eval_loss': 0.39613839983940125, 'eval_precision': 0.7768960781321532, 'eval_recall': 0.8328153116309505, 'eval_f1': 0.8038844149692089, 'eval_accuracy': 0.9153172562374036, 'eval_runtime': 0.6235, 'eval_samples_per_second': 96.231, 'eval_steps_per_second': 3.208, 'epoch': 51.0}\n"
     ]
    },
    {
     "name": "stderr",
     "output_type": "stream",
     "text": [
      "                                                 \n",
      " 52%|█████▏    | 468/900 [06:31<05:02,  1.43it/s]"
     ]
    },
    {
     "name": "stdout",
     "output_type": "stream",
     "text": [
      "{'eval_loss': 0.37663090229034424, 'eval_precision': 0.8140973465733355, 'eval_recall': 0.818092589563226, 'eval_f1': 0.8160900783289817, 'eval_accuracy': 0.9206338174994788, 'eval_runtime': 0.6252, 'eval_samples_per_second': 95.972, 'eval_steps_per_second': 3.199, 'epoch': 52.0}\n"
     ]
    },
    {
     "name": "stderr",
     "output_type": "stream",
     "text": [
      "                                                 \n",
      " 53%|█████▎    | 477/900 [06:38<04:57,  1.42it/s]"
     ]
    },
    {
     "name": "stdout",
     "output_type": "stream",
     "text": [
      "{'eval_loss': 0.3705906867980957, 'eval_precision': 0.8135239318984901, 'eval_recall': 0.8285620808113856, 'eval_f1': 0.8209741470135342, 'eval_accuracy': 0.9228229897838627, 'eval_runtime': 0.6201, 'eval_samples_per_second': 96.76, 'eval_steps_per_second': 3.225, 'epoch': 53.0}\n"
     ]
    },
    {
     "name": "stderr",
     "output_type": "stream",
     "text": [
      "                                                 \n",
      " 54%|█████▍    | 486/900 [06:45<04:50,  1.42it/s]"
     ]
    },
    {
     "name": "stdout",
     "output_type": "stream",
     "text": [
      "{'eval_loss': 0.3730390965938568, 'eval_precision': 0.7978243978243978, 'eval_recall': 0.8398495010633077, 'eval_f1': 0.8182977366911062, 'eval_accuracy': 0.9215025366599485, 'eval_runtime': 0.6237, 'eval_samples_per_second': 96.206, 'eval_steps_per_second': 3.207, 'epoch': 54.0}\n"
     ]
    },
    {
     "name": "stderr",
     "output_type": "stream",
     "text": [
      "                                                 \n",
      " 55%|█████▌    | 495/900 [06:52<04:44,  1.43it/s]"
     ]
    },
    {
     "name": "stdout",
     "output_type": "stream",
     "text": [
      "{'eval_loss': 0.3703412711620331, 'eval_precision': 0.8034880099657428, 'eval_recall': 0.8441027318828725, 'eval_f1': 0.8232947746310332, 'eval_accuracy': 0.9227187434846063, 'eval_runtime': 0.6185, 'eval_samples_per_second': 97.01, 'eval_steps_per_second': 3.234, 'epoch': 55.0}\n"
     ]
    },
    {
     "name": "stderr",
     "output_type": "stream",
     "text": [
      " 56%|█████▌    | 500/900 [06:56<05:15,  1.27it/s]"
     ]
    },
    {
     "name": "stdout",
     "output_type": "stream",
     "text": [
      "{'loss': 0.7789, 'grad_norm': 1.3679165840148926, 'learning_rate': 8.888888888888888e-06, 'epoch': 55.56}\n"
     ]
    },
    {
     "name": "stderr",
     "output_type": "stream",
     "text": [
      "                                                 \n",
      " 56%|█████▌    | 504/900 [07:04<07:32,  1.14s/it]"
     ]
    },
    {
     "name": "stdout",
     "output_type": "stream",
     "text": [
      "{'eval_loss': 0.37527716159820557, 'eval_precision': 0.7949425287356322, 'eval_recall': 0.8485195485031899, 'eval_f1': 0.8208577306535845, 'eval_accuracy': 0.9227534922510251, 'eval_runtime': 0.6231, 'eval_samples_per_second': 96.299, 'eval_steps_per_second': 3.21, 'epoch': 56.0}\n"
     ]
    },
    {
     "name": "stderr",
     "output_type": "stream",
     "text": [
      "                                                 \n",
      " 57%|█████▋    | 513/900 [07:11<04:38,  1.39it/s]"
     ]
    },
    {
     "name": "stdout",
     "output_type": "stream",
     "text": [
      "{'eval_loss': 0.3551628291606903, 'eval_precision': 0.8191169488843172, 'eval_recall': 0.8467201046949124, 'eval_f1': 0.8326898326898327, 'eval_accuracy': 0.9275140732503996, 'eval_runtime': 0.6314, 'eval_samples_per_second': 95.026, 'eval_steps_per_second': 3.168, 'epoch': 57.0}\n"
     ]
    },
    {
     "name": "stderr",
     "output_type": "stream",
     "text": [
      "                                                 \n",
      " 58%|█████▊    | 522/900 [07:18<04:25,  1.42it/s]"
     ]
    },
    {
     "name": "stdout",
     "output_type": "stream",
     "text": [
      "{'eval_loss': 0.3641452193260193, 'eval_precision': 0.8029882932840419, 'eval_recall': 0.8527727793227547, 'eval_f1': 0.8271320904403014, 'eval_accuracy': 0.9249079157689902, 'eval_runtime': 0.6212, 'eval_samples_per_second': 96.588, 'eval_steps_per_second': 3.22, 'epoch': 58.0}\n"
     ]
    },
    {
     "name": "stderr",
     "output_type": "stream",
     "text": [
      "                                                 \n",
      " 59%|█████▉    | 531/900 [07:25<04:18,  1.43it/s]"
     ]
    },
    {
     "name": "stdout",
     "output_type": "stream",
     "text": [
      "{'eval_loss': 0.3516787886619568, 'eval_precision': 0.8254419191919192, 'eval_recall': 0.8555537379355472, 'eval_f1': 0.8402281307735562, 'eval_accuracy': 0.9290777677392452, 'eval_runtime': 0.6128, 'eval_samples_per_second': 97.911, 'eval_steps_per_second': 3.264, 'epoch': 59.0}\n"
     ]
    },
    {
     "name": "stderr",
     "output_type": "stream",
     "text": [
      "                                                 \n",
      " 60%|██████    | 540/900 [07:33<04:12,  1.43it/s]"
     ]
    },
    {
     "name": "stdout",
     "output_type": "stream",
     "text": [
      "{'eval_loss': 0.355380117893219, 'eval_precision': 0.8173913043478261, 'eval_recall': 0.861115655161132, 'eval_f1': 0.8386839799251176, 'eval_accuracy': 0.9291820140385016, 'eval_runtime': 0.6178, 'eval_samples_per_second': 97.121, 'eval_steps_per_second': 3.237, 'epoch': 60.0}\n"
     ]
    },
    {
     "name": "stderr",
     "output_type": "stream",
     "text": [
      "                                                 \n",
      " 61%|██████    | 549/900 [07:40<04:05,  1.43it/s]"
     ]
    },
    {
     "name": "stdout",
     "output_type": "stream",
     "text": [
      "{'eval_loss': 0.35796818137168884, 'eval_precision': 0.8072454906756343, 'eval_recall': 0.8638966137739245, 'eval_f1': 0.8346108257605689, 'eval_accuracy': 0.9276878170824936, 'eval_runtime': 0.6259, 'eval_samples_per_second': 95.87, 'eval_steps_per_second': 3.196, 'epoch': 61.0}\n"
     ]
    },
    {
     "name": "stderr",
     "output_type": "stream",
     "text": [
      "                                                 \n",
      " 62%|██████▏   | 558/900 [07:47<03:59,  1.43it/s]"
     ]
    },
    {
     "name": "stdout",
     "output_type": "stream",
     "text": [
      "{'eval_loss': 0.34983283281326294, 'eval_precision': 0.8234102244389028, 'eval_recall': 0.8642237853754294, 'eval_f1': 0.8433234895043499, 'eval_accuracy': 0.9303287233303218, 'eval_runtime': 0.629, 'eval_samples_per_second': 95.386, 'eval_steps_per_second': 3.18, 'epoch': 62.0}\n"
     ]
    },
    {
     "name": "stderr",
     "output_type": "stream",
     "text": [
      "                                                 \n",
      " 63%|██████▎   | 567/900 [07:54<03:53,  1.43it/s]"
     ]
    },
    {
     "name": "stdout",
     "output_type": "stream",
     "text": [
      "{'eval_loss': 0.3418067991733551, 'eval_precision': 0.8306869988995441, 'eval_recall': 0.8643873711761819, 'eval_f1': 0.8472021805355139, 'eval_accuracy': 0.9325873931475432, 'eval_runtime': 0.6302, 'eval_samples_per_second': 95.215, 'eval_steps_per_second': 3.174, 'epoch': 63.0}\n"
     ]
    },
    {
     "name": "stderr",
     "output_type": "stream",
     "text": [
      "                                                 \n",
      " 64%|██████▍   | 576/900 [08:01<03:46,  1.43it/s]"
     ]
    },
    {
     "name": "stdout",
     "output_type": "stream",
     "text": [
      "{'eval_loss': 0.3345497250556946, 'eval_precision': 0.8345721967420529, 'eval_recall': 0.8632422705709144, 'eval_f1': 0.8486651656481184, 'eval_accuracy': 0.9338730975050386, 'eval_runtime': 0.6184, 'eval_samples_per_second': 97.022, 'eval_steps_per_second': 3.234, 'epoch': 64.0}\n"
     ]
    },
    {
     "name": "stderr",
     "output_type": "stream",
     "text": [
      "                                                 \n",
      " 65%|██████▌   | 585/900 [08:09<03:40,  1.43it/s]"
     ]
    },
    {
     "name": "stdout",
     "output_type": "stream",
     "text": [
      "{'eval_loss': 0.33610567450523376, 'eval_precision': 0.834513135126632, 'eval_recall': 0.8678226729919843, 'eval_f1': 0.8508420208500401, 'eval_accuracy': 0.9342205851692265, 'eval_runtime': 0.6178, 'eval_samples_per_second': 97.121, 'eval_steps_per_second': 3.237, 'epoch': 65.0}\n"
     ]
    },
    {
     "name": "stderr",
     "output_type": "stream",
     "text": [
      "                                                 \n",
      " 66%|██████▌   | 594/900 [08:16<03:34,  1.43it/s]"
     ]
    },
    {
     "name": "stdout",
     "output_type": "stream",
     "text": [
      "{'eval_loss': 0.3373225927352905, 'eval_precision': 0.8385318210459988, 'eval_recall': 0.8707672174055292, 'eval_f1': 0.8543455581414012, 'eval_accuracy': 0.9355757870595593, 'eval_runtime': 0.6109, 'eval_samples_per_second': 98.22, 'eval_steps_per_second': 3.274, 'epoch': 66.0}\n"
     ]
    },
    {
     "name": "stderr",
     "output_type": "stream",
     "text": [
      "                                                 \n",
      " 67%|██████▋   | 603/900 [08:23<03:27,  1.43it/s]"
     ]
    },
    {
     "name": "stdout",
     "output_type": "stream",
     "text": [
      "{'eval_loss': 0.3347989618778229, 'eval_precision': 0.8345380263984915, 'eval_recall': 0.8688041877964993, 'eval_f1': 0.8513264406507975, 'eval_accuracy': 0.93498505803044, 'eval_runtime': 0.6304, 'eval_samples_per_second': 95.185, 'eval_steps_per_second': 3.173, 'epoch': 67.0}\n"
     ]
    },
    {
     "name": "stderr",
     "output_type": "stream",
     "text": [
      "                                                 \n",
      " 68%|██████▊   | 612/900 [08:30<03:21,  1.43it/s]"
     ]
    },
    {
     "name": "stdout",
     "output_type": "stream",
     "text": [
      "{'eval_loss': 0.3331955671310425, 'eval_precision': 0.8384409869558385, 'eval_recall': 0.8727302470145591, 'eval_f1': 0.8552420647643476, 'eval_accuracy': 0.9362012648550977, 'eval_runtime': 0.6198, 'eval_samples_per_second': 96.811, 'eval_steps_per_second': 3.227, 'epoch': 68.0}\n"
     ]
    },
    {
     "name": "stderr",
     "output_type": "stream",
     "text": [
      "                                                 \n",
      " 69%|██████▉   | 621/900 [08:37<03:14,  1.43it/s]"
     ]
    },
    {
     "name": "stdout",
     "output_type": "stream",
     "text": [
      "{'eval_loss': 0.32823795080184937, 'eval_precision': 0.8391311191563041, 'eval_recall': 0.8720759038115492, 'eval_f1': 0.855286378950746, 'eval_accuracy': 0.9366529988185419, 'eval_runtime': 0.6209, 'eval_samples_per_second': 96.629, 'eval_steps_per_second': 3.221, 'epoch': 69.0}\n"
     ]
    },
    {
     "name": "stderr",
     "output_type": "stream",
     "text": [
      "                                                 \n",
      " 70%|███████   | 630/900 [08:45<03:08,  1.43it/s]"
     ]
    },
    {
     "name": "stdout",
     "output_type": "stream",
     "text": [
      "{'eval_loss': 0.3246799111366272, 'eval_precision': 0.8474765164782678, 'eval_recall': 0.8707672174055292, 'eval_f1': 0.8589640148458931, 'eval_accuracy': 0.9384599346723191, 'eval_runtime': 0.6241, 'eval_samples_per_second': 96.137, 'eval_steps_per_second': 3.205, 'epoch': 70.0}\n"
     ]
    },
    {
     "name": "stderr",
     "output_type": "stream",
     "text": [
      "                                                 \n",
      " 71%|███████   | 639/900 [08:52<03:02,  1.43it/s]"
     ]
    },
    {
     "name": "stdout",
     "output_type": "stream",
     "text": [
      "{'eval_loss': 0.3227941393852234, 'eval_precision': 0.8489277204130262, 'eval_recall': 0.8742025192213316, 'eval_f1': 0.8613797549967762, 'eval_accuracy': 0.9389811661686011, 'eval_runtime': 0.6185, 'eval_samples_per_second': 97.013, 'eval_steps_per_second': 3.234, 'epoch': 71.0}\n"
     ]
    },
    {
     "name": "stderr",
     "output_type": "stream",
     "text": [
      "                                                 \n",
      " 72%|███████▏  | 648/900 [08:59<02:55,  1.43it/s]"
     ]
    },
    {
     "name": "stdout",
     "output_type": "stream",
     "text": [
      "{'eval_loss': 0.32740068435668945, 'eval_precision': 0.8470831346367828, 'eval_recall': 0.8717487322100441, 'eval_f1': 0.8592389551757497, 'eval_accuracy': 0.9382166933073876, 'eval_runtime': 0.6192, 'eval_samples_per_second': 96.892, 'eval_steps_per_second': 3.23, 'epoch': 72.0}\n"
     ]
    },
    {
     "name": "stderr",
     "output_type": "stream",
     "text": [
      "                                                 \n",
      " 73%|███████▎  | 657/900 [09:06<02:59,  1.36it/s]"
     ]
    },
    {
     "name": "stdout",
     "output_type": "stream",
     "text": [
      "{'eval_loss': 0.32397496700286865, 'eval_precision': 0.8477985429204942, 'eval_recall': 0.875674791428104, 'eval_f1': 0.8615112255572543, 'eval_accuracy': 0.9385294322051567, 'eval_runtime': 0.6528, 'eval_samples_per_second': 91.913, 'eval_steps_per_second': 3.064, 'epoch': 73.0}\n"
     ]
    },
    {
     "name": "stderr",
     "output_type": "stream",
     "text": [
      "                                                 \n",
      " 74%|███████▍  | 666/900 [09:14<02:52,  1.36it/s]"
     ]
    },
    {
     "name": "stdout",
     "output_type": "stream",
     "text": [
      "{'eval_loss': 0.324302077293396, 'eval_precision': 0.8493650793650793, 'eval_recall': 0.875347619826599, 'eval_f1': 0.8621606380407637, 'eval_accuracy': 0.9387726735700883, 'eval_runtime': 0.6504, 'eval_samples_per_second': 92.248, 'eval_steps_per_second': 3.075, 'epoch': 74.0}\n"
     ]
    },
    {
     "name": "stderr",
     "output_type": "stream",
     "text": [
      "                                                 \n",
      " 75%|███████▌  | 675/900 [09:21<02:40,  1.40it/s]"
     ]
    },
    {
     "name": "stdout",
     "output_type": "stream",
     "text": [
      "{'eval_loss': 0.32157543301582336, 'eval_precision': 0.8475619378254695, 'eval_recall': 0.878619335841649, 'eval_f1': 0.8628112449799198, 'eval_accuracy': 0.9395718951977204, 'eval_runtime': 0.6571, 'eval_samples_per_second': 91.306, 'eval_steps_per_second': 3.044, 'epoch': 75.0}\n"
     ]
    },
    {
     "name": "stderr",
     "output_type": "stream",
     "text": [
      "                                                 \n",
      " 76%|███████▌  | 684/900 [09:29<02:37,  1.37it/s]"
     ]
    },
    {
     "name": "stdout",
     "output_type": "stream",
     "text": [
      "{'eval_loss': 0.32225924730300903, 'eval_precision': 0.8457899716177862, 'eval_recall': 0.8774742352363815, 'eval_f1': 0.8613408269771177, 'eval_accuracy': 0.9384599346723191, 'eval_runtime': 0.638, 'eval_samples_per_second': 94.045, 'eval_steps_per_second': 3.135, 'epoch': 76.0}\n"
     ]
    },
    {
     "name": "stderr",
     "output_type": "stream",
     "text": [
      "                                                 \n",
      " 77%|███████▋  | 693/900 [09:36<02:25,  1.42it/s]"
     ]
    },
    {
     "name": "stdout",
     "output_type": "stream",
     "text": [
      "{'eval_loss': 0.3240751326084137, 'eval_precision': 0.845054945054945, 'eval_recall': 0.8805823654506789, 'eval_f1': 0.8624529359929505, 'eval_accuracy': 0.9393981513656265, 'eval_runtime': 0.6342, 'eval_samples_per_second': 94.613, 'eval_steps_per_second': 3.154, 'epoch': 77.0}\n"
     ]
    },
    {
     "name": "stderr",
     "output_type": "stream",
     "text": [
      "                                                 \n",
      " 78%|███████▊  | 702/900 [09:43<02:18,  1.43it/s]"
     ]
    },
    {
     "name": "stdout",
     "output_type": "stream",
     "text": [
      "{'eval_loss': 0.319256454706192, 'eval_precision': 0.8496835443037974, 'eval_recall': 0.8784557500408965, 'eval_f1': 0.8638301294940882, 'eval_accuracy': 0.939815136562652, 'eval_runtime': 0.6232, 'eval_samples_per_second': 96.274, 'eval_steps_per_second': 3.209, 'epoch': 78.0}\n"
     ]
    },
    {
     "name": "stderr",
     "output_type": "stream",
     "text": [
      "                                                 \n",
      " 79%|███████▉  | 711/900 [09:50<02:15,  1.40it/s]"
     ]
    },
    {
     "name": "stdout",
     "output_type": "stream",
     "text": [
      "{'eval_loss': 0.3174854815006256, 'eval_precision': 0.851799017276906, 'eval_recall': 0.8791100932439064, 'eval_f1': 0.865239091933666, 'eval_accuracy': 0.9405796094238654, 'eval_runtime': 0.619, 'eval_samples_per_second': 96.923, 'eval_steps_per_second': 3.231, 'epoch': 79.0}\n"
     ]
    },
    {
     "name": "stderr",
     "output_type": "stream",
     "text": [
      "                                                 \n",
      " 80%|████████  | 720/900 [09:58<02:06,  1.42it/s]"
     ]
    },
    {
     "name": "stdout",
     "output_type": "stream",
     "text": [
      "{'eval_loss': 0.31707027554512024, 'eval_precision': 0.8509562193772721, 'eval_recall': 0.8807459512514314, 'eval_f1': 0.8655948553054662, 'eval_accuracy': 0.9403016192925151, 'eval_runtime': 0.6183, 'eval_samples_per_second': 97.04, 'eval_steps_per_second': 3.235, 'epoch': 80.0}\n"
     ]
    },
    {
     "name": "stderr",
     "output_type": "stream",
     "text": [
      "                                                 \n",
      " 81%|████████  | 729/900 [10:05<01:59,  1.43it/s]"
     ]
    },
    {
     "name": "stdout",
     "output_type": "stream",
     "text": [
      "{'eval_loss': 0.31429675221443176, 'eval_precision': 0.8556175298804781, 'eval_recall': 0.878292164240144, 'eval_f1': 0.8668065870196966, 'eval_accuracy': 0.9404058655917715, 'eval_runtime': 0.6176, 'eval_samples_per_second': 97.156, 'eval_steps_per_second': 3.239, 'epoch': 81.0}\n"
     ]
    },
    {
     "name": "stderr",
     "output_type": "stream",
     "text": [
      "                                                 \n",
      " 82%|████████▏ | 738/900 [10:12<01:53,  1.42it/s]"
     ]
    },
    {
     "name": "stdout",
     "output_type": "stream",
     "text": [
      "{'eval_loss': 0.31564050912857056, 'eval_precision': 0.8550978209002704, 'eval_recall': 0.8794372648454114, 'eval_f1': 0.8670967741935484, 'eval_accuracy': 0.9409618458544722, 'eval_runtime': 0.6368, 'eval_samples_per_second': 94.215, 'eval_steps_per_second': 3.14, 'epoch': 82.0}\n"
     ]
    },
    {
     "name": "stderr",
     "output_type": "stream",
     "text": [
      "                                                 \n",
      " 83%|████████▎ | 747/900 [10:19<01:47,  1.43it/s]"
     ]
    },
    {
     "name": "stdout",
     "output_type": "stream",
     "text": [
      "{'eval_loss': 0.3159715533256531, 'eval_precision': 0.8568464730290456, 'eval_recall': 0.878292164240144, 'eval_f1': 0.8674367881088942, 'eval_accuracy': 0.9410660921537285, 'eval_runtime': 0.6293, 'eval_samples_per_second': 95.345, 'eval_steps_per_second': 3.178, 'epoch': 83.0}\n"
     ]
    },
    {
     "name": "stderr",
     "output_type": "stream",
     "text": [
      "                                                 \n",
      " 84%|████████▍ | 756/900 [10:26<01:41,  1.42it/s]"
     ]
    },
    {
     "name": "stdout",
     "output_type": "stream",
     "text": [
      "{'eval_loss': 0.3172471225261688, 'eval_precision': 0.8541964144058385, 'eval_recall': 0.8807459512514314, 'eval_f1': 0.8672680412371133, 'eval_accuracy': 0.9407186044895406, 'eval_runtime': 0.6201, 'eval_samples_per_second': 96.751, 'eval_steps_per_second': 3.225, 'epoch': 84.0}\n"
     ]
    },
    {
     "name": "stderr",
     "output_type": "stream",
     "text": [
      "                                                 \n",
      " 85%|████████▌ | 765/900 [10:34<01:38,  1.36it/s]"
     ]
    },
    {
     "name": "stdout",
     "output_type": "stream",
     "text": [
      "{'eval_loss': 0.31732669472694397, 'eval_precision': 0.8569612205975843, 'eval_recall': 0.8820546376574513, 'eval_f1': 0.8693268843208384, 'eval_accuracy': 0.9416915699492668, 'eval_runtime': 0.6728, 'eval_samples_per_second': 89.18, 'eval_steps_per_second': 2.973, 'epoch': 85.0}\n"
     ]
    },
    {
     "name": "stderr",
     "output_type": "stream",
     "text": [
      "                                                 \n",
      " 86%|████████▌ | 774/900 [10:41<01:30,  1.40it/s]"
     ]
    },
    {
     "name": "stdout",
     "output_type": "stream",
     "text": [
      "{'eval_loss': 0.3175056278705597, 'eval_precision': 0.8539521622049738, 'eval_recall': 0.8818910518566988, 'eval_f1': 0.8676967648478996, 'eval_accuracy': 0.9412745847522414, 'eval_runtime': 0.6525, 'eval_samples_per_second': 91.948, 'eval_steps_per_second': 3.065, 'epoch': 86.0}\n"
     ]
    },
    {
     "name": "stderr",
     "output_type": "stream",
     "text": [
      "                                                 \n",
      " 87%|████████▋ | 783/900 [10:48<01:23,  1.41it/s]"
     ]
    },
    {
     "name": "stdout",
     "output_type": "stream",
     "text": [
      "{'eval_loss': 0.31527525186538696, 'eval_precision': 0.8557371845738772, 'eval_recall': 0.8820546376574513, 'eval_f1': 0.8686966328338972, 'eval_accuracy': 0.9412398359858225, 'eval_runtime': 0.6614, 'eval_samples_per_second': 90.716, 'eval_steps_per_second': 3.024, 'epoch': 87.0}\n"
     ]
    },
    {
     "name": "stderr",
     "output_type": "stream",
     "text": [
      "                                                 \n",
      " 88%|████████▊ | 792/900 [10:56<01:17,  1.39it/s]"
     ]
    },
    {
     "name": "stdout",
     "output_type": "stream",
     "text": [
      "{'eval_loss': 0.3133833110332489, 'eval_precision': 0.8610180309558002, 'eval_recall': 0.8827089808604613, 'eval_f1': 0.8717285945072698, 'eval_accuracy': 0.9424560428104802, 'eval_runtime': 0.6436, 'eval_samples_per_second': 93.228, 'eval_steps_per_second': 3.108, 'epoch': 88.0}\n"
     ]
    },
    {
     "name": "stderr",
     "output_type": "stream",
     "text": [
      "                                                 \n",
      " 89%|████████▉ | 801/900 [11:03<01:09,  1.43it/s]"
     ]
    },
    {
     "name": "stdout",
     "output_type": "stream",
     "text": [
      "{'eval_loss': 0.31543174386024475, 'eval_precision': 0.8556929908024105, 'eval_recall': 0.8827089808604613, 'eval_f1': 0.8689910620822933, 'eval_accuracy': 0.941656821182848, 'eval_runtime': 0.6168, 'eval_samples_per_second': 97.275, 'eval_steps_per_second': 3.242, 'epoch': 89.0}\n"
     ]
    },
    {
     "name": "stderr",
     "output_type": "stream",
     "text": [
      "                                                 \n",
      " 90%|█████████ | 810/900 [11:10<01:04,  1.38it/s]"
     ]
    },
    {
     "name": "stdout",
     "output_type": "stream",
     "text": [
      "{'eval_loss': 0.31443601846694946, 'eval_precision': 0.8577093908629442, 'eval_recall': 0.8845084246687388, 'eval_f1': 0.870902794555851, 'eval_accuracy': 0.9421433039127111, 'eval_runtime': 0.67, 'eval_samples_per_second': 89.546, 'eval_steps_per_second': 2.985, 'epoch': 90.0}\n"
     ]
    },
    {
     "name": "stderr",
     "output_type": "stream",
     "text": [
      "                                                 \n",
      " 91%|█████████ | 819/900 [11:18<00:57,  1.41it/s]"
     ]
    },
    {
     "name": "stdout",
     "output_type": "stream",
     "text": [
      "{'eval_loss': 0.3134116530418396, 'eval_precision': 0.8596043395022336, 'eval_recall': 0.8814002944544413, 'eval_f1': 0.8703658832081416, 'eval_accuracy': 0.9421085551462923, 'eval_runtime': 0.6325, 'eval_samples_per_second': 94.856, 'eval_steps_per_second': 3.162, 'epoch': 91.0}\n"
     ]
    },
    {
     "name": "stderr",
     "output_type": "stream",
     "text": [
      "                                                 \n",
      " 92%|█████████▏| 828/900 [11:25<00:51,  1.39it/s]"
     ]
    },
    {
     "name": "stdout",
     "output_type": "stream",
     "text": [
      "{'eval_loss': 0.3131657838821411, 'eval_precision': 0.8570747975226298, 'eval_recall': 0.8828725666612138, 'eval_f1': 0.8697824335213538, 'eval_accuracy': 0.9422128014455486, 'eval_runtime': 0.6309, 'eval_samples_per_second': 95.1, 'eval_steps_per_second': 3.17, 'epoch': 92.0}\n"
     ]
    },
    {
     "name": "stderr",
     "output_type": "stream",
     "text": [
      "                                                 \n",
      " 93%|█████████▎| 837/900 [11:32<00:44,  1.41it/s]"
     ]
    },
    {
     "name": "stdout",
     "output_type": "stream",
     "text": [
      "{'eval_loss': 0.31217968463897705, 'eval_precision': 0.8578696343402226, 'eval_recall': 0.8827089808604613, 'eval_f1': 0.870112069660566, 'eval_accuracy': 0.9422128014455486, 'eval_runtime': 0.6458, 'eval_samples_per_second': 92.914, 'eval_steps_per_second': 3.097, 'epoch': 93.0}\n"
     ]
    },
    {
     "name": "stderr",
     "output_type": "stream",
     "text": [
      "                                                 \n",
      " 94%|█████████▍| 846/900 [11:40<00:42,  1.27it/s]"
     ]
    },
    {
     "name": "stdout",
     "output_type": "stream",
     "text": [
      "{'eval_loss': 0.3119429349899292, 'eval_precision': 0.8589600890443632, 'eval_recall': 0.8836904956649763, 'eval_f1': 0.871149814546041, 'eval_accuracy': 0.9422822989783862, 'eval_runtime': 0.634, 'eval_samples_per_second': 94.639, 'eval_steps_per_second': 3.155, 'epoch': 94.0}\n"
     ]
    },
    {
     "name": "stderr",
     "output_type": "stream",
     "text": [
      "                                                 \n",
      " 95%|█████████▌| 855/900 [11:48<00:34,  1.29it/s]"
     ]
    },
    {
     "name": "stdout",
     "output_type": "stream",
     "text": [
      "{'eval_loss': 0.31209200620651245, 'eval_precision': 0.8610402042118698, 'eval_recall': 0.8828725666612138, 'eval_f1': 0.8718197237702933, 'eval_accuracy': 0.9425255403433178, 'eval_runtime': 0.7262, 'eval_samples_per_second': 82.617, 'eval_steps_per_second': 2.754, 'epoch': 95.0}\n"
     ]
    },
    {
     "name": "stderr",
     "output_type": "stream",
     "text": [
      "                                                 \n",
      " 96%|█████████▌| 864/900 [11:56<00:26,  1.37it/s]"
     ]
    },
    {
     "name": "stdout",
     "output_type": "stream",
     "text": [
      "{'eval_loss': 0.31332284212112427, 'eval_precision': 0.8577777777777778, 'eval_recall': 0.8840176672664812, 'eval_f1': 0.8707000725046322, 'eval_accuracy': 0.9426297866425742, 'eval_runtime': 0.6374, 'eval_samples_per_second': 94.13, 'eval_steps_per_second': 3.138, 'epoch': 96.0}\n"
     ]
    },
    {
     "name": "stderr",
     "output_type": "stream",
     "text": [
      "                                                 \n",
      " 97%|█████████▋| 873/900 [12:03<00:19,  1.39it/s]"
     ]
    },
    {
     "name": "stdout",
     "output_type": "stream",
     "text": [
      "{'eval_loss': 0.31201228499412537, 'eval_precision': 0.8605355435129104, 'eval_recall': 0.8831997382627188, 'eval_f1': 0.8717203519819166, 'eval_accuracy': 0.9426992841754118, 'eval_runtime': 0.6266, 'eval_samples_per_second': 95.756, 'eval_steps_per_second': 3.192, 'epoch': 97.0}\n"
     ]
    },
    {
     "name": "stderr",
     "output_type": "stream",
     "text": [
      "                                                 \n",
      " 98%|█████████▊| 882/900 [12:10<00:12,  1.41it/s]"
     ]
    },
    {
     "name": "stdout",
     "output_type": "stream",
     "text": [
      "{'eval_loss': 0.31205108761787415, 'eval_precision': 0.8592804839223177, 'eval_recall': 0.8830361524619663, 'eval_f1': 0.8709963695038321, 'eval_accuracy': 0.942490791576899, 'eval_runtime': 0.6411, 'eval_samples_per_second': 93.585, 'eval_steps_per_second': 3.119, 'epoch': 98.0}\n"
     ]
    },
    {
     "name": "stderr",
     "output_type": "stream",
     "text": [
      "                                                 \n",
      " 99%|█████████▉| 891/900 [12:17<00:06,  1.42it/s]"
     ]
    },
    {
     "name": "stdout",
     "output_type": "stream",
     "text": [
      "{'eval_loss': 0.3120429217815399, 'eval_precision': 0.8588684043229498, 'eval_recall': 0.8840176672664812, 'eval_f1': 0.8712615880693269, 'eval_accuracy': 0.9425602891097367, 'eval_runtime': 0.6261, 'eval_samples_per_second': 95.826, 'eval_steps_per_second': 3.194, 'epoch': 99.0}\n"
     ]
    },
    {
     "name": "stderr",
     "output_type": "stream",
     "text": [
      "                                                 \n",
      "100%|██████████| 900/900 [12:25<00:00,  1.21it/s]\n"
     ]
    },
    {
     "name": "stdout",
     "output_type": "stream",
     "text": [
      "{'eval_loss': 0.3116986155509949, 'eval_precision': 0.8593476531424026, 'eval_recall': 0.8835269098642238, 'eval_f1': 0.8712695596063882, 'eval_accuracy': 0.942490791576899, 'eval_runtime': 0.6181, 'eval_samples_per_second': 97.064, 'eval_steps_per_second': 3.235, 'epoch': 100.0}\n",
      "{'train_runtime': 745.2519, 'train_samples_per_second': 37.571, 'train_steps_per_second': 1.208, 'train_loss': 0.4934656312730577, 'epoch': 100.0}\n"
     ]
    },
    {
     "data": {
      "text/plain": [
       "('tokenizer\\\\tokenizer_config.json',\n",
       " 'tokenizer\\\\special_tokens_map.json',\n",
       " 'tokenizer\\\\vocab.txt',\n",
       " 'tokenizer\\\\added_tokens.json',\n",
       " 'tokenizer\\\\tokenizer.json')"
      ]
     },
     "execution_count": 18,
     "metadata": {},
     "output_type": "execute_result"
    }
   ],
   "source": [
    "trainer.train()\n",
    "\n",
    "model.save_pretrained('ner_model')\n",
    "\n",
    "tokenizer.save_pretrained('tokenizer')"
   ]
  },
  {
   "cell_type": "code",
   "execution_count": 19,
   "metadata": {},
   "outputs": [],
   "source": [
    "import json\n",
    "\n",
    "config = json.load(open('ner_model/config.json'))"
   ]
  },
  {
   "cell_type": "code",
   "execution_count": 20,
   "metadata": {},
   "outputs": [],
   "source": [
    "config['id2label'] = idx_to_label\n",
    "config['label2id'] = label_to_idx\n",
    "\n",
    "json.dump(config, open('ner_model/config.json', 'w'))\n",
    "\n",
    "model_fine_tuned = AutoModelForTokenClassification.from_pretrained('ner_model')"
   ]
  },
  {
   "cell_type": "code",
   "execution_count": 24,
   "metadata": {},
   "outputs": [],
   "source": [
    "def evaluate_ner_model_on_test(trainer, test_dataset):\n",
    "    evaluation_results = trainer.evaluate(test_dataset)\n",
    "\n",
    "    return {\n",
    "        'test_loss': evaluation_results.get('eval_loss'),\n",
    "        'test_precision': evaluation_results.get('eval_precision'),\n",
    "        'test_recall': evaluation_results.get('eval_recall'),\n",
    "        'test_f1': evaluation_results.get('eval_f1'),\n",
    "        'test_accuracy': evaluation_results.get('eval_accuracy')\n",
    "    }"
   ]
  },
  {
   "cell_type": "code",
   "execution_count": 29,
   "metadata": {},
   "outputs": [
    {
     "name": "stderr",
     "output_type": "stream",
     "text": [
      "100%|██████████| 2/2 [00:00<00:00,  6.20it/s]"
     ]
    },
    {
     "name": "stdout",
     "output_type": "stream",
     "text": [
      "{'test_loss': 0.649170458316803, 'test_precision': 0.7491681191570274, 'test_recall': 0.7823928512328314, 'test_f1': 0.7654201068479844, 'test_accuracy': 0.8866003708073488}\n"
     ]
    },
    {
     "name": "stderr",
     "output_type": "stream",
     "text": [
      "\n"
     ]
    }
   ],
   "source": [
    "test_results = evaluate_ner_model_on_test(trainer, tokenized_dataset['test'])\n",
    "print(test_results)"
   ]
  }
 ],
 "metadata": {
  "kernelspec": {
   "display_name": "Python 3",
   "language": "python",
   "name": "python3"
  },
  "language_info": {
   "codemirror_mode": {
    "name": "ipython",
    "version": 3
   },
   "file_extension": ".py",
   "mimetype": "text/x-python",
   "name": "python",
   "nbconvert_exporter": "python",
   "pygments_lexer": "ipython3",
   "version": "3.12.2"
  }
 },
 "nbformat": 4,
 "nbformat_minor": 2
}
