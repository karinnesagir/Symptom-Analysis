{
 "cells": [
  {
   "cell_type": "code",
   "execution_count": 8,
   "metadata": {},
   "outputs": [],
   "source": [
    "from transformers import AutoModelForTokenClassification, BertTokenizerFast, pipeline"
   ]
  },
  {
   "cell_type": "code",
   "execution_count": 7,
   "metadata": {},
   "outputs": [],
   "source": [
    "tokenizer = BertTokenizerFast.from_pretrained('bert-base-uncased')\n",
    "model_fine_tuned = AutoModelForTokenClassification.from_pretrained('ner_model')"
   ]
  },
  {
   "cell_type": "code",
   "execution_count": 10,
   "metadata": {},
   "outputs": [
    {
     "name": "stdout",
     "output_type": "stream",
     "text": [
      "63__________________ B-Age_____________________________________________(0.9498211741447449)\n",
      "-___________________ I-Age_____________________________________________(0.9545792937278748)\n",
      "year________________ I-Age_____________________________________________(0.9583491086959839)\n",
      "-___________________ I-Age_____________________________________________(0.9509706497192383)\n",
      "old_________________ I-Age_____________________________________________(0.9568210244178772)\n",
      "woman_______________ B-Sex_____________________________________________(0.9177759289741516)\n",
      "no__________________ B-History_________________________________________(0.7777950763702393)\n",
      "known_______________ I-History_________________________________________(0.9582462310791016)\n",
      "cardiac_____________ I-History_________________________________________(0.9452419281005859)\n",
      "history_____________ I-History_________________________________________(0.9585446715354919)\n",
      "presented___________ B-Clinical_event__________________________________(0.6223219633102417)\n",
      "d___________________ B-Sign_symptom____________________________________(0.98812335729599)\n",
      "##ys________________ B-Sign_symptom____________________________________(0.9884338974952698)\n",
      "##p_________________ B-Sign_symptom____________________________________(0.9872817397117615)\n",
      "##nea_______________ B-Sign_symptom____________________________________(0.9871681928634644)\n",
      "int_________________ B-Therapeutic_procedure___________________________(0.8290485739707947)\n",
      "##uba_______________ B-Therapeutic_procedure___________________________(0.8352134823799133)\n",
      "##tion______________ B-Therapeutic_procedure___________________________(0.7993705868721008)\n",
      "vent________________ B-Therapeutic_procedure___________________________(0.825043797492981)\n",
      "##ila_______________ B-Therapeutic_procedure___________________________(0.8462691903114319)\n",
      "##tory______________ B-Therapeutic_procedure___________________________(0.7560123801231384)\n",
      "support_____________ I-Therapeutic_procedure___________________________(0.5169482827186584)\n",
      "out_________________ B-Nonbiological_location__________________________(0.3595046401023865)\n",
      "of__________________ I-Nonbiological_location__________________________(0.6121124029159546)\n",
      "hospital____________ I-Nonbiological_location__________________________(0.5481473803520203)\n",
      "discomfort__________ B-Sign_symptom____________________________________(0.9391917586326599)\n",
      "pal_________________ B-Sign_symptom____________________________________(0.9709257483482361)\n",
      "##pit_______________ B-Sign_symptom____________________________________(0.9802942276000977)\n",
      "##ations____________ B-Sign_symptom____________________________________(0.9717044830322266)\n",
      "sync________________ B-Sign_symptom____________________________________(0.9735680818557739)\n",
      "##ope_______________ B-Sign_symptom____________________________________(0.964072048664093)\n",
      "infection___________ B-Sign_symptom____________________________________(0.9842005372047424)\n",
      "af__________________ B-Sign_symptom____________________________________(0.9874274730682373)\n",
      "##eb________________ B-Sign_symptom____________________________________(0.9842708706855774)\n",
      "##ril_______________ B-Sign_symptom____________________________________(0.9845387935638428)\n",
      "##e_________________ B-Sign_symptom____________________________________(0.9832686185836792)\n",
      "norm________________ B-Sign_symptom____________________________________(0.9864308834075928)\n",
      "##ote_______________ B-Sign_symptom____________________________________(0.9878266453742981)\n",
      "##ns________________ B-Sign_symptom____________________________________(0.9871029257774353)\n",
      "##ive_______________ B-Sign_symptom____________________________________(0.9872074723243713)\n",
      "ta__________________ B-Sign_symptom____________________________________(0.9861654043197632)\n",
      "##chy_______________ B-Sign_symptom____________________________________(0.9838303923606873)\n",
      "##card______________ B-Sign_symptom____________________________________(0.9819921255111694)\n",
      "##ia________________ B-Sign_symptom____________________________________(0.9700374007225037)\n",
      "140_________________ B-Lab_value_______________________________________(0.8788034915924072)\n",
      "beats_______________ I-Lab_value_______________________________________(0.9445524215698242)\n",
      "/___________________ I-Lab_value_______________________________________(0.9541162252426147)\n",
      "min_________________ I-Lab_value_______________________________________(0.9344227910041809)\n"
     ]
    }
   ],
   "source": [
    "nlp = pipeline(\"ner\", model=model_fine_tuned, tokenizer=tokenizer)\n",
    "\n",
    "example = \"A 63-year-old woman with no known cardiac history presented with a sudden onset of dyspnea requiring intubation and ventilatory support out of hospital. She denied preceding symptoms of chest discomfort, palpitations, syncope or infection. The patient was afebrile and normotensive, with a sinus tachycardia of 140 beats/min.\"\n",
    "\n",
    "ner_results = nlp(example)\n",
    "\n",
    "for entry in ner_results:\n",
    "    print(f\"{entry['word']:_<20} {entry['entity']:_<50}({entry['score']})\")"
   ]
  }
 ],
 "metadata": {
  "kernelspec": {
   "display_name": "Python 3",
   "language": "python",
   "name": "python3"
  },
  "language_info": {
   "codemirror_mode": {
    "name": "ipython",
    "version": 3
   },
   "file_extension": ".py",
   "mimetype": "text/x-python",
   "name": "python",
   "nbconvert_exporter": "python",
   "pygments_lexer": "ipython3",
   "version": "3.12.2"
  }
 },
 "nbformat": 4,
 "nbformat_minor": 2
}
