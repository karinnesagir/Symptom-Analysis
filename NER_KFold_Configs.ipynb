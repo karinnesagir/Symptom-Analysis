{
 "cells": [
  {
   "cell_type": "code",
   "execution_count": 17,
   "metadata": {},
   "outputs": [],
   "source": [
    "import datasets\n",
    "from sklearn.model_selection import KFold\n",
    "from transformers import BertTokenizerFast, AutoModelForTokenClassification, Trainer, TrainingArguments, DataCollatorForTokenClassification\n",
    "import numpy as np"
   ]
  },
  {
   "cell_type": "code",
   "execution_count": 6,
   "metadata": {},
   "outputs": [],
   "source": [
    "dataset = datasets.load_dataset(\"ktgiahieu/maccrobat2018_2020\")\n",
    "\n",
    "split_dataset = dataset['train'].train_test_split(test_size=0.1)\n",
    "\n",
    "train_val_dataset = split_dataset['train']\n",
    "test_dataset = split_dataset['test']\n",
    "\n",
    "kf = KFold(n_splits=5, shuffle=True, random_state=42)"
   ]
  },
  {
   "cell_type": "code",
   "execution_count": 7,
   "metadata": {},
   "outputs": [],
   "source": [
    "label_list = []\n",
    "\n",
    "with open('./label_list.txt', 'r') as f:\n",
    "    for line in f:\n",
    "        parts = line.split(':')\n",
    "        label = parts[1].strip()\n",
    "        \n",
    "        label_list.append(label)"
   ]
  },
  {
   "cell_type": "code",
   "execution_count": 8,
   "metadata": {},
   "outputs": [],
   "source": [
    "tokenizer = BertTokenizerFast.from_pretrained('bert-base-uncased')"
   ]
  },
  {
   "cell_type": "code",
   "execution_count": 9,
   "metadata": {},
   "outputs": [],
   "source": [
    "idx_to_label = {i: label for i, label in enumerate(label_list)}\n",
    "label_to_idx = {label: i for i, label in enumerate(label_list)}"
   ]
  },
  {
   "cell_type": "code",
   "execution_count": 10,
   "metadata": {},
   "outputs": [],
   "source": [
    "def tags_to_indices(example):\n",
    "    example['tags'] = [label_to_idx[tag] for tag in example['tags']]\n",
    "    return example"
   ]
  },
  {
   "cell_type": "code",
   "execution_count": 11,
   "metadata": {},
   "outputs": [],
   "source": [
    "def indices_to_tags(example):\n",
    "    example['tags'] = [idx_to_label[idx] for idx in example['tags']]\n",
    "    return example"
   ]
  },
  {
   "cell_type": "code",
   "execution_count": 13,
   "metadata": {},
   "outputs": [
    {
     "name": "stderr",
     "output_type": "stream",
     "text": [
      "Map: 100%|██████████| 360/360 [00:00<00:00, 2301.84 examples/s]\n",
      "Map: 100%|██████████| 40/40 [00:00<00:00, 1481.22 examples/s]\n"
     ]
    }
   ],
   "source": [
    "train_val_dataset = train_val_dataset.map(lambda x: tags_to_indices(x))\n",
    "test_dataset = test_dataset.map(lambda x: tags_to_indices(x))"
   ]
  },
  {
   "cell_type": "code",
   "execution_count": 14,
   "metadata": {},
   "outputs": [],
   "source": [
    "def tokenize_and_align_labels(example, label_all_tokens=True):\n",
    "    tokenized_input = tokenizer(example[\"tokens\"], truncation=True, is_split_into_words=True)\n",
    "    labels = []\n",
    "\n",
    "    for i, label in enumerate(example['tags']):\n",
    "        word_ids = tokenized_input.word_ids(batch_index=i)\n",
    "        # word_ids() => Return a list mapping the tokens\n",
    "        # to their actual word in the initial sentence.\n",
    "        # It returns a list indicating the word corresponding to each token.\n",
    "        previous_word_idx = None\n",
    "        \n",
    "        label_ids = []\n",
    "        for word_idx in word_ids:\n",
    "            if word_idx is None:\n",
    "                label_ids.append(-100)\n",
    "            elif word_idx != previous_word_idx:\n",
    "                label_ids.append(label[word_idx])\n",
    "            else:\n",
    "                label_ids.append(label[word_idx] if label_all_tokens else -100)\n",
    "            previous_word_idx = word_idx\n",
    "        labels.append(label_ids)\n",
    "    \n",
    "    tokenized_input[\"labels\"] = labels\n",
    "    return tokenized_input"
   ]
  },
  {
   "cell_type": "code",
   "execution_count": 18,
   "metadata": {},
   "outputs": [
    {
     "name": "stderr",
     "output_type": "stream",
     "text": [
      "Some weights of BertForTokenClassification were not initialized from the model checkpoint at bert-base-uncased and are newly initialized: ['classifier.bias', 'classifier.weight']\n",
      "You should probably TRAIN this model on a down-stream task to be able to use it for predictions and inference.\n",
      "c:\\Users\\kevin\\AppData\\Local\\Programs\\Python\\Python312\\Lib\\site-packages\\datasets\\load.py:756: FutureWarning: The repository for seqeval contains custom code which must be executed to correctly load the metric. You can inspect the repository content at https://raw.githubusercontent.com/huggingface/datasets/2.18.0/metrics/seqeval/seqeval.py\n",
      "You can avoid this message in future by passing the argument `trust_remote_code=True`.\n",
      "Passing `trust_remote_code=True` will be mandatory to load this metric from the next major release of `datasets`.\n",
      "  warnings.warn(\n"
     ]
    }
   ],
   "source": [
    "model = AutoModelForTokenClassification.from_pretrained('bert-base-uncased', num_labels=len(label_list))\n",
    "metric = datasets.load_metric('seqeval')\n",
    "data_collator = DataCollatorForTokenClassification(tokenizer)"
   ]
  },
  {
   "cell_type": "code",
   "execution_count": 27,
   "metadata": {},
   "outputs": [],
   "source": [
    "configurations = [\n",
    "    {'learning_rate': 2e-5, 'batch_size': 32, 'epochs': 30, 'weight_decay': 0.01},\n",
    "    {'learning_rate': 2e-5, 'batch_size': 32, 'epochs': 30, 'weight_decay': 0.02},\n",
    "    {'learning_rate': 2e-5, 'batch_size': 32, 'epochs': 60, 'weight_decay': 0.01},\n",
    "    {'learning_rate': 2e-5, 'batch_size': 32, 'epochs': 60, 'weight_decay': 0.02},\n",
    "    {'learning_rate': 2e-5, 'batch_size': 32, 'epochs': 100, 'weight_decay': 0.01}\n",
    "]"
   ]
  },
  {
   "cell_type": "code",
   "execution_count": 20,
   "metadata": {},
   "outputs": [],
   "source": [
    "from seqeval.metrics import precision_score, recall_score, f1_score, accuracy_score\n",
    "\n",
    "def compute_metrics(p):\n",
    "    logits, label_ids = p\n",
    "    predictions = np.argmax(logits, axis=2)\n",
    "\n",
    "    # Flatten the batches and remove the special tokens\n",
    "    true_predictions = [\n",
    "        label_list[p] for batch_preds, batch_labels in zip(predictions, label_ids) \n",
    "        for p, l in zip(batch_preds, batch_labels) if l != -100\n",
    "    ]\n",
    "\n",
    "    true_labels = [\n",
    "        label_list[l] for batch_labels in label_ids\n",
    "        for l in batch_labels if l != -100\n",
    "    ]\n",
    "\n",
    "    # Calculate metrics\n",
    "    precision = precision_score([true_labels], [true_predictions])\n",
    "    recall = recall_score([true_labels], [true_predictions])\n",
    "    f1 = f1_score([true_labels], [true_predictions])\n",
    "    accuracy = accuracy_score([true_labels], [true_predictions])\n",
    "\n",
    "    return {\n",
    "        'precision': precision,\n",
    "        'recall': recall,\n",
    "        'f1': f1,\n",
    "        'accuracy': accuracy\n",
    "    }\n"
   ]
  },
  {
   "cell_type": "code",
   "execution_count": 28,
   "metadata": {},
   "outputs": [
    {
     "name": "stdout",
     "output_type": "stream",
     "text": [
      "Training with config: {'learning_rate': 2e-05, 'batch_size': 32, 'epochs': 1, 'weight_decay': 0.01}\n",
      "Starting fold 1/5\n"
     ]
    },
    {
     "name": "stderr",
     "output_type": "stream",
     "text": [
      "Some weights of BertForTokenClassification were not initialized from the model checkpoint at bert-base-uncased and are newly initialized: ['classifier.bias', 'classifier.weight']\n",
      "You should probably TRAIN this model on a down-stream task to be able to use it for predictions and inference.\n",
      " 53%|█████▎    | 239/450 [18:14<16:06,  4.58s/it]\n",
      "100%|██████████| 9/9 [01:19<00:00,  8.25s/it]\n",
      "\u001b[A\n",
      "\u001b[A\n",
      "\u001b[A\n",
      "\u001b[A\n",
      "\u001b[A\n",
      "\u001b[A\n",
      "\u001b[A\n",
      "\u001b[A\n",
      "\u001b[A\n",
      "\n",
      "                                             \n",
      "\u001b[A                                            \n",
      "100%|██████████| 9/9 [01:23<00:00,  8.25s/it]\n",
      "                                             \n",
      "100%|██████████| 9/9 [01:23<00:00,  9.28s/it]  \n"
     ]
    },
    {
     "name": "stdout",
     "output_type": "stream",
     "text": [
      "{'eval_loss': 3.172919750213623, 'eval_precision': 0.0, 'eval_recall': 0.0, 'eval_f1': 0.0, 'eval_accuracy': 0.6338393083443634, 'eval_runtime': 4.2466, 'eval_samples_per_second': 16.955, 'eval_steps_per_second': 2.119, 'epoch': 1.0}\n",
      "{'train_runtime': 83.4764, 'train_samples_per_second': 3.45, 'train_steps_per_second': 0.108, 'train_loss': 3.7714106241861978, 'epoch': 1.0}\n"
     ]
    },
    {
     "name": "stderr",
     "output_type": "stream",
     "text": [
      "100%|██████████| 9/9 [00:04<00:00,  1.92it/s]\n"
     ]
    },
    {
     "name": "stdout",
     "output_type": "stream",
     "text": [
      "Results for fold 1: {'eval_loss': 3.172919750213623, 'eval_precision': 0.0, 'eval_recall': 0.0, 'eval_f1': 0.0, 'eval_accuracy': 0.6338393083443634, 'eval_runtime': 5.1535, 'eval_samples_per_second': 13.971, 'eval_steps_per_second': 1.746, 'epoch': 1.0}\n",
      "Starting fold 2/5\n"
     ]
    },
    {
     "name": "stderr",
     "output_type": "stream",
     "text": [
      "Map: 100%|██████████| 288/288 [00:00<00:00, 741.95 examples/s]\n",
      "Map: 100%|██████████| 72/72 [00:00<00:00, 785.08 examples/s]\n",
      "Some weights of BertForTokenClassification were not initialized from the model checkpoint at bert-base-uncased and are newly initialized: ['classifier.bias', 'classifier.weight']\n",
      "You should probably TRAIN this model on a down-stream task to be able to use it for predictions and inference.\n",
      "100%|██████████| 9/9 [01:29<00:00,  9.81s/it]\n",
      "\u001b[A\n",
      "\u001b[A\n",
      "\u001b[A\n",
      "\u001b[A\n",
      "\u001b[A\n",
      "\u001b[A\n",
      "\u001b[A\n",
      "\u001b[A\n",
      "\u001b[Ac:\\Users\\kevin\\AppData\\Local\\Programs\\Python\\Python312\\Lib\\site-packages\\seqeval\\metrics\\v1.py:57: UndefinedMetricWarning: Precision is ill-defined and being set to 0.0 due to no predicted samples. Use `zero_division` parameter to control this behavior.\n",
      "  _warn_prf(average, modifier, msg_start, len(result))\n",
      "\n",
      "\n",
      "                                             \n",
      "\u001b[A                                            \n",
      "100%|██████████| 9/9 [01:35<00:00,  9.81s/it]\n",
      "                                             \n",
      "100%|██████████| 9/9 [01:35<00:00, 10.59s/it]  \n"
     ]
    },
    {
     "name": "stdout",
     "output_type": "stream",
     "text": [
      "{'eval_loss': 2.7188925743103027, 'eval_precision': 0.0, 'eval_recall': 0.0, 'eval_f1': 0.0, 'eval_accuracy': 0.6411092985318108, 'eval_runtime': 5.3731, 'eval_samples_per_second': 13.4, 'eval_steps_per_second': 1.675, 'epoch': 1.0}\n",
      "{'train_runtime': 95.3259, 'train_samples_per_second': 3.021, 'train_steps_per_second': 0.094, 'train_loss': 3.4452633327907987, 'epoch': 1.0}\n"
     ]
    },
    {
     "name": "stderr",
     "output_type": "stream",
     "text": [
      "100%|██████████| 9/9 [00:04<00:00,  1.89it/s]\n"
     ]
    },
    {
     "name": "stdout",
     "output_type": "stream",
     "text": [
      "Results for fold 2: {'eval_loss': 2.7188925743103027, 'eval_precision': 0.0, 'eval_recall': 0.0, 'eval_f1': 0.0, 'eval_accuracy': 0.6411092985318108, 'eval_runtime': 5.347, 'eval_samples_per_second': 13.465, 'eval_steps_per_second': 1.683, 'epoch': 1.0}\n",
      "Starting fold 3/5\n"
     ]
    },
    {
     "name": "stderr",
     "output_type": "stream",
     "text": [
      "Map: 100%|██████████| 288/288 [00:00<00:00, 937.73 examples/s]\n",
      "Map: 100%|██████████| 72/72 [00:00<00:00, 867.55 examples/s]\n",
      "Some weights of BertForTokenClassification were not initialized from the model checkpoint at bert-base-uncased and are newly initialized: ['classifier.bias', 'classifier.weight']\n",
      "You should probably TRAIN this model on a down-stream task to be able to use it for predictions and inference.\n",
      "100%|██████████| 9/9 [01:08<00:00,  7.15s/it]\n",
      "\u001b[A\n",
      "\u001b[A\n",
      "\u001b[A\n",
      "\u001b[A\n",
      "\n",
      "                                             \n",
      "\u001b[A                                            \n",
      "100%|██████████| 9/9 [01:09<00:00,  7.15s/it]\n",
      "                                             \n",
      "100%|██████████| 9/9 [01:09<00:00,  7.69s/it]  \n"
     ]
    },
    {
     "name": "stdout",
     "output_type": "stream",
     "text": [
      "{'eval_loss': 2.714573621749878, 'eval_precision': 0.0, 'eval_recall': 0.0, 'eval_f1': 0.0, 'eval_accuracy': 0.6399550160039217, 'eval_runtime': 0.7829, 'eval_samples_per_second': 91.97, 'eval_steps_per_second': 11.496, 'epoch': 1.0}\n",
      "{'train_runtime': 69.2228, 'train_samples_per_second': 4.16, 'train_steps_per_second': 0.13, 'train_loss': 3.423275417751736, 'epoch': 1.0}\n"
     ]
    },
    {
     "name": "stderr",
     "output_type": "stream",
     "text": [
      "100%|██████████| 9/9 [00:00<00:00, 13.36it/s]\n"
     ]
    },
    {
     "name": "stdout",
     "output_type": "stream",
     "text": [
      "Results for fold 3: {'eval_loss': 2.714573621749878, 'eval_precision': 0.0, 'eval_recall': 0.0, 'eval_f1': 0.0, 'eval_accuracy': 0.6399550160039217, 'eval_runtime': 0.7506, 'eval_samples_per_second': 95.927, 'eval_steps_per_second': 11.991, 'epoch': 1.0}\n",
      "Starting fold 4/5\n"
     ]
    },
    {
     "name": "stderr",
     "output_type": "stream",
     "text": [
      "Map: 100%|██████████| 288/288 [00:00<00:00, 896.50 examples/s]\n",
      "Map: 100%|██████████| 72/72 [00:00<00:00, 905.46 examples/s]\n",
      "Some weights of BertForTokenClassification were not initialized from the model checkpoint at bert-base-uncased and are newly initialized: ['classifier.bias', 'classifier.weight']\n",
      "You should probably TRAIN this model on a down-stream task to be able to use it for predictions and inference.\n",
      " 22%|██▏       | 2/9 [00:15<00:54,  7.82s/it]"
     ]
    }
   ],
   "source": [
    "from transformers import set_seed\n",
    "\n",
    "set_seed(42)\n",
    "\n",
    "results = []\n",
    "\n",
    "for i, config in enumerate(configurations):\n",
    "    fold_results = []\n",
    "    print(f\"Training with config: {config}\")\n",
    "    for fold, (train_index, val_index) in enumerate(kf.split(train_val_dataset)):\n",
    "        print(f\"Starting fold {fold+1}/{kf.get_n_splits()}\")\n",
    "        train_fold = train_val_dataset.select(train_index)\n",
    "        val_fold = train_val_dataset.select(val_index)\n",
    "\n",
    "        train_fold = train_fold.map(tokenize_and_align_labels, batched=True)\n",
    "        val_fold = val_fold.map(tokenize_and_align_labels, batched=True)\n",
    "\n",
    "        training_args = TrainingArguments(\n",
    "            output_dir=f'./model_fold_{fold}',\n",
    "            evaluation_strategy='epoch',\n",
    "            learning_rate=config['learning_rate'],\n",
    "            per_device_train_batch_size=config['batch_size'],\n",
    "            num_train_epochs=config['epochs'],\n",
    "            weight_decay=config['weight_decay'],\n",
    "            logging_dir=f'./logs_fold_{fold}',  # Add logging\n",
    "            logging_steps=10  # Log every 10 steps\n",
    "        )\n",
    "\n",
    "        model = AutoModelForTokenClassification.from_pretrained('bert-base-uncased', num_labels=len(label_list))\n",
    "        trainer = Trainer(\n",
    "            model=model,\n",
    "            args=training_args,\n",
    "            train_dataset=train_fold,\n",
    "            eval_dataset=val_fold,\n",
    "            data_collator=data_collator,\n",
    "            tokenizer=tokenizer,\n",
    "            compute_metrics=compute_metrics\n",
    "        )\n",
    "\n",
    "        trainer.train()\n",
    "        eval_results = trainer.evaluate()\n",
    "        fold_results.append(eval_results)\n",
    "        print(f\"Results for fold {fold+1}: {eval_results}\")\n",
    "\n",
    "    model.save_pretrained(f'./ner_models/ner_model_config_{i}')\n",
    "    tokenizer.save_pretrained(f'./tokenizers/tokenizer_config_{i}')\n",
    "\n",
    "    avg_accuracy = np.mean([fr['eval_accuracy'] for fr in fold_results])\n",
    "    results.append({'config': config, 'average_accuracy': avg_accuracy})\n",
    "    print(f\"Avg. Accuracy for current config: {avg_accuracy}\")\n"
   ]
  }
 ],
 "metadata": {
  "kernelspec": {
   "display_name": "Python 3",
   "language": "python",
   "name": "python3"
  },
  "language_info": {
   "codemirror_mode": {
    "name": "ipython",
    "version": 3
   },
   "file_extension": ".py",
   "mimetype": "text/x-python",
   "name": "python",
   "nbconvert_exporter": "python",
   "pygments_lexer": "ipython3",
   "version": "3.12.2"
  }
 },
 "nbformat": 4,
 "nbformat_minor": 2
}
